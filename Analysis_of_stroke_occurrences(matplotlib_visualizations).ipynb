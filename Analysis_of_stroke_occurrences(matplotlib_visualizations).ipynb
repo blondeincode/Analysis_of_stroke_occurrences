{
  "nbformat": 4,
  "nbformat_minor": 0,
  "metadata": {
    "colab": {
      "name": "Analysis_of_stroke_occurrences(matplotlib_visualizations).ipynb",
      "provenance": [],
      "collapsed_sections": [],
      "mount_file_id": "1094iVx-sKWnmA3aW80by2e7Ac2r6AStg",
      "authorship_tag": "ABX9TyMptLRjVO4+eqG+W427uxW4",
      "include_colab_link": true
    },
    "kernelspec": {
      "name": "python3",
      "display_name": "Python 3"
    }
  },
  "cells": [
    {
      "cell_type": "markdown",
      "metadata": {
        "id": "view-in-github",
        "colab_type": "text"
      },
      "source": [
        "<a href=\"https://colab.research.google.com/github/blondeincode/Analysis_of_stroke_occurrences/blob/main/Analysis_of_stroke_occurrences(matplotlib_visualizations).ipynb\" target=\"_parent\"><img src=\"https://colab.research.google.com/assets/colab-badge.svg\" alt=\"Open In Colab\"/></a>"
      ]
    },
    {
      "cell_type": "markdown",
      "metadata": {
        "id": "tTo3IrazrkZ7"
      },
      "source": [
        "Analysis of an anonymized sample of the National Health Fund data on the occurrence of ischemic stroke"
      ]
    },
    {
      "cell_type": "code",
      "metadata": {
        "id": "j8NZx6ELGr1o"
      },
      "source": [
        "import os\r\n",
        "import urllib.request\r\n",
        "import zipfile\r\n",
        "import pandas as pd\r\n",
        "import numpy as np\r\n",
        "import matplotlib.pyplot as plt\r\n",
        "from matplotlib.ticker import FuncFormatter\r\n",
        "%matplotlib inline\r\n",
        "import seaborn as sns\r\n",
        "\r\n",
        "def thousands_formatter(x, pos):\r\n",
        "  return f'{x / 1000}'\r\n",
        "\r\n",
        "def millions_formatter(x, pos):\r\n",
        "  return f'{x / 1000000}'\r\n",
        "    \r\n",
        "plt.style.use('fivethirtyeight')"
      ],
      "execution_count": 66,
      "outputs": []
    },
    {
      "cell_type": "code",
      "metadata": {
        "id": "NMQen0ZGNufr"
      },
      "source": [
        "# Create path to data file\r\n",
        "DATA_DIR = os.path.join('data')\r\n",
        "DATA_URL = 'https://www.dropbox.com/s/rr3sbnz8hz7u5xo/health_services.zip?dl=1'\r\n",
        "DATA_FILENAME = 'data.zip'\r\n",
        "DATA_FILEPATH = 'os.path.join(DATA_DIR, DATA_FILENAME)'"
      ],
      "execution_count": null,
      "outputs": []
    },
    {
      "cell_type": "code",
      "metadata": {
        "id": "S13wRbxoN3Z8"
      },
      "source": [
        "def init_directories():\r\n",
        "  if not os.path.exists(DATA_DIR):\r\n",
        "    os.makedirs(DATA_DIR)"
      ],
      "execution_count": null,
      "outputs": []
    },
    {
      "cell_type": "code",
      "metadata": {
        "id": "kOtjpjN1N83M"
      },
      "source": [
        "data = urllib.request.urlretrieve(DATA_URL, DATA_FILEPATH)"
      ],
      "execution_count": null,
      "outputs": []
    },
    {
      "cell_type": "code",
      "metadata": {
        "id": "r3RiOdd8N_yv"
      },
      "source": [
        "init_directories()\r\n",
        "\r\n",
        "with zipfile.ZipFile(DATA_FILEPATH, 'r') as zip_ref:\r\n",
        "    zip_ref.extractall(DATA_DIR) "
      ],
      "execution_count": null,
      "outputs": []
    },
    {
      "cell_type": "code",
      "metadata": {
        "colab": {
          "base_uri": "https://localhost:8080/"
        },
        "id": "ArpQMb8FOCRj",
        "outputId": "1f5abada-8718-476a-8b7b-e038897ed260"
      },
      "source": [
        "for path, subdirs, files in os.walk('data'):\r\n",
        "    for name in files:\r\n",
        "        print(os.path.join(path, name))"
      ],
      "execution_count": null,
      "outputs": [
        {
          "output_type": "stream",
          "text": [
            "data/diagnosis.csv\n",
            "data/patient_parameters.csv\n",
            "data/health_benefits.csv\n",
            "data/prescriptions.csv\n",
            "data/procedures.csv\n",
            "data/patients.csv\n"
          ],
          "name": "stdout"
        }
      ]
    },
    {
      "cell_type": "code",
      "metadata": {
        "colab": {
          "base_uri": "https://localhost:8080/"
        },
        "id": "AMvgWOcpGzUy",
        "outputId": "8bfac217-8d94-4d91-99bc-f93404c4688f"
      },
      "source": [
        "# How many unique patients and for what total amount (settled amount) have dental services (type of services) used?\r\n",
        "services = pd.read_csv('data/health_benefits.csv', header=0, \r\n",
        "                       usecols=['ID_PACJENTA','ID_EPIZODU','ID_KONTAKTU','KOD_ZAKRESU','RODZAJ_SWIADCZEN','KWOTA_ROZLICZONA'], \r\n",
        "                       sep=';', encoding='ISO-8859-2', low_memory=False)\r\n",
        "services.columns=['PATIENT_ID','EPISODE_ID','CONTACT_ID','RANGE_CODE','TYPE_OF_SERVICES','SETTLED_AMOUNT']\r\n",
        "services.head()"
      ],
      "execution_count": null,
      "outputs": [
        {
          "output_type": "execute_result",
          "data": {
            "text/html": [
              "<div>\n",
              "<style scoped>\n",
              "    .dataframe tbody tr th:only-of-type {\n",
              "        vertical-align: middle;\n",
              "    }\n",
              "\n",
              "    .dataframe tbody tr th {\n",
              "        vertical-align: top;\n",
              "    }\n",
              "\n",
              "    .dataframe thead th {\n",
              "        text-align: right;\n",
              "    }\n",
              "</style>\n",
              "<table border=\"1\" class=\"dataframe\">\n",
              "  <thead>\n",
              "    <tr style=\"text-align: right;\">\n",
              "      <th></th>\n",
              "      <th>PATIENT_ID</th>\n",
              "      <th>EPISODE_ID</th>\n",
              "      <th>CONTACT_ID</th>\n",
              "      <th>RANGE_CODE</th>\n",
              "      <th>TYPE_OF_SERVICES</th>\n",
              "      <th>SETTLED_AMOUNT</th>\n",
              "    </tr>\n",
              "  </thead>\n",
              "  <tbody>\n",
              "    <tr>\n",
              "      <th>0</th>\n",
              "      <td>21466</td>\n",
              "      <td>55625667</td>\n",
              "      <td>20359413</td>\n",
              "      <td>1506110</td>\n",
              "      <td>PODSTAWOWA OPIEKA ZDROWOTNA</td>\n",
              "      <td>0</td>\n",
              "    </tr>\n",
              "    <tr>\n",
              "      <th>1</th>\n",
              "      <td>197685</td>\n",
              "      <td>84652115</td>\n",
              "      <td>98978481</td>\n",
              "      <td>1506110</td>\n",
              "      <td>PODSTAWOWA OPIEKA ZDROWOTNA</td>\n",
              "      <td>0</td>\n",
              "    </tr>\n",
              "    <tr>\n",
              "      <th>2</th>\n",
              "      <td>21466</td>\n",
              "      <td>13879209</td>\n",
              "      <td>82087452</td>\n",
              "      <td>1506110</td>\n",
              "      <td>PODSTAWOWA OPIEKA ZDROWOTNA</td>\n",
              "      <td>0</td>\n",
              "    </tr>\n",
              "    <tr>\n",
              "      <th>3</th>\n",
              "      <td>372836</td>\n",
              "      <td>46476951</td>\n",
              "      <td>43672487</td>\n",
              "      <td>1506110</td>\n",
              "      <td>PODSTAWOWA OPIEKA ZDROWOTNA</td>\n",
              "      <td>0</td>\n",
              "    </tr>\n",
              "    <tr>\n",
              "      <th>4</th>\n",
              "      <td>845904</td>\n",
              "      <td>87283796</td>\n",
              "      <td>28396473</td>\n",
              "      <td>1506110</td>\n",
              "      <td>PODSTAWOWA OPIEKA ZDROWOTNA</td>\n",
              "      <td>0</td>\n",
              "    </tr>\n",
              "  </tbody>\n",
              "</table>\n",
              "</div>"
            ],
            "text/plain": [
              "   PATIENT_ID  EPISODE_ID  ...             TYPE_OF_SERVICES  SETTLED_AMOUNT\n",
              "0       21466    55625667  ...  PODSTAWOWA OPIEKA ZDROWOTNA               0\n",
              "1      197685    84652115  ...  PODSTAWOWA OPIEKA ZDROWOTNA               0\n",
              "2       21466    13879209  ...  PODSTAWOWA OPIEKA ZDROWOTNA               0\n",
              "3      372836    46476951  ...  PODSTAWOWA OPIEKA ZDROWOTNA               0\n",
              "4      845904    87283796  ...  PODSTAWOWA OPIEKA ZDROWOTNA               0\n",
              "\n",
              "[5 rows x 6 columns]"
            ]
          },
          "metadata": {
            "tags": []
          },
          "execution_count": 7
        }
      ]
    },
    {
      "cell_type": "code",
      "metadata": {
        "id": "R9gexzDamE0j",
        "colab": {
          "base_uri": "https://localhost:8080/"
        },
        "outputId": "a4017234-6034-40e0-e313-ef9449d56bcf"
      },
      "source": [
        "services['TYPE_OF_SERVICES'].unique()"
      ],
      "execution_count": null,
      "outputs": [
        {
          "output_type": "execute_result",
          "data": {
            "text/plain": [
              "array(['PODSTAWOWA OPIEKA ZDROWOTNA',\n",
              "       'AMBULATORYJNE \\x8cWIADCZENIA SPECJALISTYCZNE',\n",
              "       'LECZENIE SZPITALNE',\n",
              "       'OPIEKA PSYCHIATRYCZNA I LECZENIE UZALEŻNIEŃ',\n",
              "       'REHABILITACJA LECZNICZA', 'LECZENIE STOMATOLOGICZNE',\n",
              "       'PROFILAKTYCZNE PROGRAMY ZDROWOTNE',\n",
              "       '\\x8cWIADCZENIA ODRĘBNIE KONTRAKTOWANE',\n",
              "       '\\x8cWIADCZENIA PIELĘGNACYJNE I OPIEKUŃCZE',\n",
              "       'OPIEKA PALIATYWNA I HOSPICYJNA', 'RATOWNICTWO MEDYCZNE'],\n",
              "      dtype=object)"
            ]
          },
          "metadata": {
            "tags": []
          },
          "execution_count": 8
        }
      ]
    },
    {
      "cell_type": "code",
      "metadata": {
        "id": "Rxt3j5ZeG6vE"
      },
      "source": [
        "services['TYPE_OF_SERVICES'] = services['TYPE_OF_SERVICES'].replace('PODSTAWOWA OPIEKA ZDROWOTNA', 'BASIC HEALTH CARE')\r\n",
        "services['TYPE_OF_SERVICES'] = services['TYPE_OF_SERVICES'].replace('AMBULATORYJNE \\x8cWIADCZENIA SPECJALISTYCZNE', \r\n",
        "                                                                    'AMBULATORY SPECIALIZED SERVICES')\r\n",
        "services['TYPE_OF_SERVICES'] = services['TYPE_OF_SERVICES'].replace('LECZENIE SZPITALNE', 'HOSPITAL TREATMENT')\r\n",
        "services['TYPE_OF_SERVICES'] = services['TYPE_OF_SERVICES'].replace('OPIEKA PSYCHIATRYCZNA I LECZENIE UZALEŻNIEŃ', \r\n",
        "                                                                    'PSYCHIATRIC CARE AND TREATMENT OF ADDICTIONS')\r\n",
        "services['TYPE_OF_SERVICES'] = services['TYPE_OF_SERVICES'].replace('REHABILITACJA LECZNICZA', 'MEDICAL REHABILITATION')\r\n",
        "services['TYPE_OF_SERVICES'] = services['TYPE_OF_SERVICES'].replace('LECZENIE STOMATOLOGICZNE', 'DENTAL TREATMENT')\r\n",
        "services['TYPE_OF_SERVICES'] = services['TYPE_OF_SERVICES'].replace('PROFILAKTYCZNE PROGRAMY ZDROWOTNE', \r\n",
        "                                                                    'PREVENTIVE HEALTH PROGRAMS')\r\n",
        "services['TYPE_OF_SERVICES'] = services['TYPE_OF_SERVICES'].replace('\\x8cWIADCZENIA ODRĘBNIE KONTRAKTOWANE', \r\n",
        "                                                                    'SEPARATELY CONTRACTED SERVICES')\r\n",
        "services['TYPE_OF_SERVICES'] = services['TYPE_OF_SERVICES'].replace('\\x8cWIADCZENIA PIELĘGNACYJNE I OPIEKUŃCZE', \r\n",
        "                                                                    'NURSING AND CARE SERVICES')\r\n",
        "services['TYPE_OF_SERVICES'] = services['TYPE_OF_SERVICES'].replace('OPIEKA PALIATYWNA I HOSPICYJNA', \r\n",
        "                                                                    'PALLIATIVE AND HOSPICE CARE')\r\n",
        "services['TYPE_OF_SERVICES'] = services['TYPE_OF_SERVICES'].replace('RATOWNICTWO MEDYCZNE', 'EMERGENCY MEDICAL SERVICES')"
      ],
      "execution_count": null,
      "outputs": []
    },
    {
      "cell_type": "code",
      "metadata": {
        "colab": {
          "base_uri": "https://localhost:8080/"
        },
        "id": "wZCSOLP8T8RI",
        "outputId": "a9b7a508-1290-4c3b-ab2d-6ac383e34743"
      },
      "source": [
        "services['TYPE_OF_SERVICES'].unique()"
      ],
      "execution_count": null,
      "outputs": [
        {
          "output_type": "execute_result",
          "data": {
            "text/plain": [
              "array(['BASIC HEALTH CARE', 'AMBULATORY SPECIALIZED SERVICES',\n",
              "       'HOSPITAL TREATMENT',\n",
              "       'PSYCHIATRIC CARE AND TREATMENT OF ADDICTIONS',\n",
              "       'MEDICAL REHABILITATION', 'DENTAL TREATMENT',\n",
              "       'PREVENTIVE HEALTH PROGRAMS', 'SEPARATELY CONTRACTED SERVICES',\n",
              "       'NURSING AND CARE SERVICES', 'PALLIATIVE AND HOSPICE CARE',\n",
              "       'EMERGENCY MEDICAL SERVICES'], dtype=object)"
            ]
          },
          "metadata": {
            "tags": []
          },
          "execution_count": 10
        }
      ]
    },
    {
      "cell_type": "code",
      "metadata": {
        "colab": {
          "base_uri": "https://localhost:8080/"
        },
        "id": "6eCz9s89G8oi",
        "outputId": "4251018f-5afa-4fa1-80a3-412c9a845f1f"
      },
      "source": [
        "q1 = services[services['TYPE_OF_SERVICES'] == 'DENTAL TREATMENT']\r\n",
        "q1 = q1.drop(q1.columns[[1,2,3]], axis=1)\r\n",
        "q1 = q1.reset_index(drop=True)\r\n",
        "q1['PATIENT_ID'] = pd.DataFrame(pd.unique(q1['PATIENT_ID']))\r\n",
        "q1.dropna(inplace=True)\r\n",
        "q1['PATIENT_ID'] = q1['PATIENT_ID'].astype(int)\r\n",
        "q1['SETTLED_AMOUNT'] = [x.replace(',', '.') for x in q1['SETTLED_AMOUNT']]\r\n",
        "q1['SETTLED_AMOUNT'] = q1['SETTLED_AMOUNT'].astype(float)\r\n",
        "q1.head()"
      ],
      "execution_count": null,
      "outputs": [
        {
          "output_type": "execute_result",
          "data": {
            "text/html": [
              "<div>\n",
              "<style scoped>\n",
              "    .dataframe tbody tr th:only-of-type {\n",
              "        vertical-align: middle;\n",
              "    }\n",
              "\n",
              "    .dataframe tbody tr th {\n",
              "        vertical-align: top;\n",
              "    }\n",
              "\n",
              "    .dataframe thead th {\n",
              "        text-align: right;\n",
              "    }\n",
              "</style>\n",
              "<table border=\"1\" class=\"dataframe\">\n",
              "  <thead>\n",
              "    <tr style=\"text-align: right;\">\n",
              "      <th></th>\n",
              "      <th>PATIENT_ID</th>\n",
              "      <th>TYPE_OF_SERVICES</th>\n",
              "      <th>SETTLED_AMOUNT</th>\n",
              "    </tr>\n",
              "  </thead>\n",
              "  <tbody>\n",
              "    <tr>\n",
              "      <th>0</th>\n",
              "      <td>273852</td>\n",
              "      <td>DENTAL TREATMENT</td>\n",
              "      <td>11.99</td>\n",
              "    </tr>\n",
              "    <tr>\n",
              "      <th>1</th>\n",
              "      <td>843595</td>\n",
              "      <td>DENTAL TREATMENT</td>\n",
              "      <td>13.20</td>\n",
              "    </tr>\n",
              "    <tr>\n",
              "      <th>2</th>\n",
              "      <td>194784</td>\n",
              "      <td>DENTAL TREATMENT</td>\n",
              "      <td>14.85</td>\n",
              "    </tr>\n",
              "    <tr>\n",
              "      <th>3</th>\n",
              "      <td>463704</td>\n",
              "      <td>DENTAL TREATMENT</td>\n",
              "      <td>13.75</td>\n",
              "    </tr>\n",
              "    <tr>\n",
              "      <th>4</th>\n",
              "      <td>534663</td>\n",
              "      <td>DENTAL TREATMENT</td>\n",
              "      <td>13.75</td>\n",
              "    </tr>\n",
              "  </tbody>\n",
              "</table>\n",
              "</div>"
            ],
            "text/plain": [
              "   PATIENT_ID  TYPE_OF_SERVICES  SETTLED_AMOUNT\n",
              "0      273852  DENTAL TREATMENT           11.99\n",
              "1      843595  DENTAL TREATMENT           13.20\n",
              "2      194784  DENTAL TREATMENT           14.85\n",
              "3      463704  DENTAL TREATMENT           13.75\n",
              "4      534663  DENTAL TREATMENT           13.75"
            ]
          },
          "metadata": {
            "tags": []
          },
          "execution_count": 11
        }
      ]
    },
    {
      "cell_type": "code",
      "metadata": {
        "colab": {
          "base_uri": "https://localhost:8080/"
        },
        "id": "4obG3OMhTz8l",
        "outputId": "8d94f331-3a34-4c0a-d3d5-4a3a28d24afc"
      },
      "source": [
        "#Number of all patients who have received dental treatment.\r\n",
        "len(q1['PATIENT_ID'])"
      ],
      "execution_count": null,
      "outputs": [
        {
          "output_type": "execute_result",
          "data": {
            "text/plain": [
              "146542"
            ]
          },
          "metadata": {
            "tags": []
          },
          "execution_count": 12
        }
      ]
    },
    {
      "cell_type": "code",
      "metadata": {
        "colab": {
          "base_uri": "https://localhost:8080/"
        },
        "id": "es2GDoF1T2Y0",
        "outputId": "e1a55e1e-7dd4-4f43-d3d8-2989188e5fe4"
      },
      "source": [
        "#The settled amount includes all patients who received dental treatment.\r\n",
        "round(sum(q1['SETTLED_AMOUNT']),2)"
      ],
      "execution_count": null,
      "outputs": [
        {
          "output_type": "execute_result",
          "data": {
            "text/plain": [
              "4713307.04"
            ]
          },
          "metadata": {
            "tags": []
          },
          "execution_count": 13
        }
      ]
    },
    {
      "cell_type": "code",
      "metadata": {
        "colab": {
          "base_uri": "https://localhost:8080/"
        },
        "id": "8E-x1lxdHA5W",
        "outputId": "207d5d60-93c4-4859-bd11-549cfecf5eeb"
      },
      "source": [
        "#What unique diagnoses were diagnosed in patients settled by the range code 3103275?\r\n",
        "q2 = services[services['RANGE_CODE'] == 3103275]\r\n",
        "q2 = q2.drop(q2.columns[[4,5]], axis=1)\r\n",
        "q2 = q2.reset_index(drop=True)\r\n",
        "q2['CONTACT_ID'] = pd.DataFrame(pd.unique(q2['CONTACT_ID']))\r\n",
        "q2.dropna(inplace=True)\r\n",
        "q2['CONTACT_ID'] = q2['CONTACT_ID'].astype(int)\r\n",
        "q2"
      ],
      "execution_count": null,
      "outputs": [
        {
          "output_type": "execute_result",
          "data": {
            "text/html": [
              "<div>\n",
              "<style scoped>\n",
              "    .dataframe tbody tr th:only-of-type {\n",
              "        vertical-align: middle;\n",
              "    }\n",
              "\n",
              "    .dataframe tbody tr th {\n",
              "        vertical-align: top;\n",
              "    }\n",
              "\n",
              "    .dataframe thead th {\n",
              "        text-align: right;\n",
              "    }\n",
              "</style>\n",
              "<table border=\"1\" class=\"dataframe\">\n",
              "  <thead>\n",
              "    <tr style=\"text-align: right;\">\n",
              "      <th></th>\n",
              "      <th>PATIENT_ID</th>\n",
              "      <th>EPISODE_ID</th>\n",
              "      <th>CONTACT_ID</th>\n",
              "      <th>RANGE_CODE</th>\n",
              "    </tr>\n",
              "  </thead>\n",
              "  <tbody>\n",
              "    <tr>\n",
              "      <th>0</th>\n",
              "      <td>743986</td>\n",
              "      <td>96464725</td>\n",
              "      <td>74139818</td>\n",
              "      <td>3103275</td>\n",
              "    </tr>\n",
              "    <tr>\n",
              "      <th>1</th>\n",
              "      <td>413007</td>\n",
              "      <td>93290748</td>\n",
              "      <td>38476599</td>\n",
              "      <td>3103275</td>\n",
              "    </tr>\n",
              "    <tr>\n",
              "      <th>2</th>\n",
              "      <td>396168</td>\n",
              "      <td>43927760</td>\n",
              "      <td>81214251</td>\n",
              "      <td>3103275</td>\n",
              "    </tr>\n",
              "    <tr>\n",
              "      <th>3</th>\n",
              "      <td>413007</td>\n",
              "      <td>90963650</td>\n",
              "      <td>99878533</td>\n",
              "      <td>3103275</td>\n",
              "    </tr>\n",
              "  </tbody>\n",
              "</table>\n",
              "</div>"
            ],
            "text/plain": [
              "   PATIENT_ID  EPISODE_ID  CONTACT_ID  RANGE_CODE\n",
              "0      743986    96464725    74139818     3103275\n",
              "1      413007    93290748    38476599     3103275\n",
              "2      396168    43927760    81214251     3103275\n",
              "3      413007    90963650    99878533     3103275"
            ]
          },
          "metadata": {
            "tags": []
          },
          "execution_count": 14
        }
      ]
    },
    {
      "cell_type": "code",
      "metadata": {
        "colab": {
          "base_uri": "https://localhost:8080/"
        },
        "id": "ba43-09iUhdl",
        "outputId": "e0dda80d-c190-4dba-bb2b-96a75c4284e5"
      },
      "source": [
        "diagnosis = pd.read_csv('data/diagnosis.csv', header=0, sep=';')\r\n",
        "diagnosis.columns=['CONTACT_ID','DIAGNOSIS_CODE','IS_THIS_THE_MAIN_DIAGNOSIS?']\r\n",
        "diagnosis"
      ],
      "execution_count": null,
      "outputs": [
        {
          "output_type": "execute_result",
          "data": {
            "text/html": [
              "<div>\n",
              "<style scoped>\n",
              "    .dataframe tbody tr th:only-of-type {\n",
              "        vertical-align: middle;\n",
              "    }\n",
              "\n",
              "    .dataframe tbody tr th {\n",
              "        vertical-align: top;\n",
              "    }\n",
              "\n",
              "    .dataframe thead th {\n",
              "        text-align: right;\n",
              "    }\n",
              "</style>\n",
              "<table border=\"1\" class=\"dataframe\">\n",
              "  <thead>\n",
              "    <tr style=\"text-align: right;\">\n",
              "      <th></th>\n",
              "      <th>CONTACT_ID</th>\n",
              "      <th>DIAGNOSIS_CODE</th>\n",
              "      <th>IS_THIS_THE_MAIN_DIAGNOSIS?</th>\n",
              "    </tr>\n",
              "  </thead>\n",
              "  <tbody>\n",
              "    <tr>\n",
              "      <th>0</th>\n",
              "      <td>86184950</td>\n",
              "      <td>42069</td>\n",
              "      <td>T</td>\n",
              "    </tr>\n",
              "    <tr>\n",
              "      <th>1</th>\n",
              "      <td>77833278</td>\n",
              "      <td>60015</td>\n",
              "      <td>T</td>\n",
              "    </tr>\n",
              "    <tr>\n",
              "      <th>2</th>\n",
              "      <td>39973459</td>\n",
              "      <td>507306</td>\n",
              "      <td>T</td>\n",
              "    </tr>\n",
              "    <tr>\n",
              "      <th>3</th>\n",
              "      <td>96091782</td>\n",
              "      <td>7809601</td>\n",
              "      <td>T</td>\n",
              "    </tr>\n",
              "    <tr>\n",
              "      <th>4</th>\n",
              "      <td>91312211</td>\n",
              "      <td>9401202</td>\n",
              "      <td>T</td>\n",
              "    </tr>\n",
              "    <tr>\n",
              "      <th>...</th>\n",
              "      <td>...</td>\n",
              "      <td>...</td>\n",
              "      <td>...</td>\n",
              "    </tr>\n",
              "    <tr>\n",
              "      <th>12798622</th>\n",
              "      <td>31497318</td>\n",
              "      <td>42069</td>\n",
              "      <td>N</td>\n",
              "    </tr>\n",
              "    <tr>\n",
              "      <th>12798623</th>\n",
              "      <td>26119441</td>\n",
              "      <td>83031</td>\n",
              "      <td>N</td>\n",
              "    </tr>\n",
              "    <tr>\n",
              "      <th>12798624</th>\n",
              "      <td>59227640</td>\n",
              "      <td>87008</td>\n",
              "      <td>N</td>\n",
              "    </tr>\n",
              "    <tr>\n",
              "      <th>12798625</th>\n",
              "      <td>91798570</td>\n",
              "      <td>8300606</td>\n",
              "      <td>N</td>\n",
              "    </tr>\n",
              "    <tr>\n",
              "      <th>12798626</th>\n",
              "      <td>36614836</td>\n",
              "      <td>2704004</td>\n",
              "      <td>N</td>\n",
              "    </tr>\n",
              "  </tbody>\n",
              "</table>\n",
              "<p>12798627 rows × 3 columns</p>\n",
              "</div>"
            ],
            "text/plain": [
              "          CONTACT_ID  DIAGNOSIS_CODE IS_THIS_THE_MAIN_DIAGNOSIS?\n",
              "0           86184950           42069                           T\n",
              "1           77833278           60015                           T\n",
              "2           39973459          507306                           T\n",
              "3           96091782         7809601                           T\n",
              "4           91312211         9401202                           T\n",
              "...              ...             ...                         ...\n",
              "12798622    31497318           42069                           N\n",
              "12798623    26119441           83031                           N\n",
              "12798624    59227640           87008                           N\n",
              "12798625    91798570         8300606                           N\n",
              "12798626    36614836         2704004                           N\n",
              "\n",
              "[12798627 rows x 3 columns]"
            ]
          },
          "metadata": {
            "tags": []
          },
          "execution_count": 15
        }
      ]
    },
    {
      "cell_type": "code",
      "metadata": {
        "colab": {
          "base_uri": "https://localhost:8080/"
        },
        "id": "-OUJrN2MUlla",
        "outputId": "daccba2b-02f6-4f50-f365-f8c15bfd3751"
      },
      "source": [
        "q2 = pd.merge(q2, diagnosis, on='CONTACT_ID')\r\n",
        "q2"
      ],
      "execution_count": null,
      "outputs": [
        {
          "output_type": "execute_result",
          "data": {
            "text/html": [
              "<div>\n",
              "<style scoped>\n",
              "    .dataframe tbody tr th:only-of-type {\n",
              "        vertical-align: middle;\n",
              "    }\n",
              "\n",
              "    .dataframe tbody tr th {\n",
              "        vertical-align: top;\n",
              "    }\n",
              "\n",
              "    .dataframe thead th {\n",
              "        text-align: right;\n",
              "    }\n",
              "</style>\n",
              "<table border=\"1\" class=\"dataframe\">\n",
              "  <thead>\n",
              "    <tr style=\"text-align: right;\">\n",
              "      <th></th>\n",
              "      <th>PATIENT_ID</th>\n",
              "      <th>EPISODE_ID</th>\n",
              "      <th>CONTACT_ID</th>\n",
              "      <th>RANGE_CODE</th>\n",
              "      <th>DIAGNOSIS_CODE</th>\n",
              "      <th>IS_THIS_THE_MAIN_DIAGNOSIS?</th>\n",
              "    </tr>\n",
              "  </thead>\n",
              "  <tbody>\n",
              "    <tr>\n",
              "      <th>0</th>\n",
              "      <td>743986</td>\n",
              "      <td>96464725</td>\n",
              "      <td>74139818</td>\n",
              "      <td>3103275</td>\n",
              "      <td>4100102</td>\n",
              "      <td>T</td>\n",
              "    </tr>\n",
              "    <tr>\n",
              "      <th>1</th>\n",
              "      <td>413007</td>\n",
              "      <td>93290748</td>\n",
              "      <td>38476599</td>\n",
              "      <td>3103275</td>\n",
              "      <td>4100102</td>\n",
              "      <td>T</td>\n",
              "    </tr>\n",
              "    <tr>\n",
              "      <th>2</th>\n",
              "      <td>396168</td>\n",
              "      <td>43927760</td>\n",
              "      <td>81214251</td>\n",
              "      <td>3103275</td>\n",
              "      <td>4105402</td>\n",
              "      <td>T</td>\n",
              "    </tr>\n",
              "    <tr>\n",
              "      <th>3</th>\n",
              "      <td>413007</td>\n",
              "      <td>90963650</td>\n",
              "      <td>99878533</td>\n",
              "      <td>3103275</td>\n",
              "      <td>4100102</td>\n",
              "      <td>T</td>\n",
              "    </tr>\n",
              "  </tbody>\n",
              "</table>\n",
              "</div>"
            ],
            "text/plain": [
              "   PATIENT_ID  EPISODE_ID  ...  DIAGNOSIS_CODE  IS_THIS_THE_MAIN_DIAGNOSIS?\n",
              "0      743986    96464725  ...         4100102                            T\n",
              "1      413007    93290748  ...         4100102                            T\n",
              "2      396168    43927760  ...         4105402                            T\n",
              "3      413007    90963650  ...         4100102                            T\n",
              "\n",
              "[4 rows x 6 columns]"
            ]
          },
          "metadata": {
            "tags": []
          },
          "execution_count": 16
        }
      ]
    },
    {
      "cell_type": "code",
      "metadata": {
        "colab": {
          "base_uri": "https://localhost:8080/"
        },
        "id": "kTwNprPAUnoJ",
        "outputId": "2a5a9c69-bb6a-4f1d-c012-151c912af2c2"
      },
      "source": [
        "q2 = q2.drop(q2.columns[[0,1,2,3,5]], axis=1)\r\n",
        "q2 = q2.reset_index(drop=True)\r\n",
        "q2['DIAGNOSIS_CODE'] = pd.DataFrame(pd.unique(q2['DIAGNOSIS_CODE']))\r\n",
        "q2.dropna(inplace=True)\r\n",
        "q2['DIAGNOSIS_CODE'] = q2['DIAGNOSIS_CODE'].astype(int)\r\n",
        "q2"
      ],
      "execution_count": null,
      "outputs": [
        {
          "output_type": "execute_result",
          "data": {
            "text/html": [
              "<div>\n",
              "<style scoped>\n",
              "    .dataframe tbody tr th:only-of-type {\n",
              "        vertical-align: middle;\n",
              "    }\n",
              "\n",
              "    .dataframe tbody tr th {\n",
              "        vertical-align: top;\n",
              "    }\n",
              "\n",
              "    .dataframe thead th {\n",
              "        text-align: right;\n",
              "    }\n",
              "</style>\n",
              "<table border=\"1\" class=\"dataframe\">\n",
              "  <thead>\n",
              "    <tr style=\"text-align: right;\">\n",
              "      <th></th>\n",
              "      <th>DIAGNOSIS_CODE</th>\n",
              "    </tr>\n",
              "  </thead>\n",
              "  <tbody>\n",
              "    <tr>\n",
              "      <th>0</th>\n",
              "      <td>4100102</td>\n",
              "    </tr>\n",
              "    <tr>\n",
              "      <th>1</th>\n",
              "      <td>4105402</td>\n",
              "    </tr>\n",
              "  </tbody>\n",
              "</table>\n",
              "</div>"
            ],
            "text/plain": [
              "   DIAGNOSIS_CODE\n",
              "0         4100102\n",
              "1         4105402"
            ]
          },
          "metadata": {
            "tags": []
          },
          "execution_count": 17
        }
      ]
    },
    {
      "cell_type": "code",
      "metadata": {
        "colab": {
          "base_uri": "https://localhost:8080/"
        },
        "id": "KvHCAT-wHKyV",
        "outputId": "293240cf-8b8e-4b18-adf6-188edd256273"
      },
      "source": [
        "patients = pd.read_csv('data/patients.csv', header=0, usecols=['ID_PACJENTA','CZY_UDAR'], sep=';')\r\n",
        "patients.columns=['PATIENT_ID','WAS_THERE_A_STROKE?']\r\n",
        "patients.head()"
      ],
      "execution_count": null,
      "outputs": [
        {
          "output_type": "execute_result",
          "data": {
            "text/html": [
              "<div>\n",
              "<style scoped>\n",
              "    .dataframe tbody tr th:only-of-type {\n",
              "        vertical-align: middle;\n",
              "    }\n",
              "\n",
              "    .dataframe tbody tr th {\n",
              "        vertical-align: top;\n",
              "    }\n",
              "\n",
              "    .dataframe thead th {\n",
              "        text-align: right;\n",
              "    }\n",
              "</style>\n",
              "<table border=\"1\" class=\"dataframe\">\n",
              "  <thead>\n",
              "    <tr style=\"text-align: right;\">\n",
              "      <th></th>\n",
              "      <th>PATIENT_ID</th>\n",
              "      <th>WAS_THERE_A_STROKE?</th>\n",
              "    </tr>\n",
              "  </thead>\n",
              "  <tbody>\n",
              "    <tr>\n",
              "      <th>0</th>\n",
              "      <td>9910</td>\n",
              "      <td>False</td>\n",
              "    </tr>\n",
              "    <tr>\n",
              "      <th>1</th>\n",
              "      <td>953308</td>\n",
              "      <td>False</td>\n",
              "    </tr>\n",
              "    <tr>\n",
              "      <th>2</th>\n",
              "      <td>936540</td>\n",
              "      <td>False</td>\n",
              "    </tr>\n",
              "    <tr>\n",
              "      <th>3</th>\n",
              "      <td>902346</td>\n",
              "      <td>False</td>\n",
              "    </tr>\n",
              "    <tr>\n",
              "      <th>4</th>\n",
              "      <td>894583</td>\n",
              "      <td>False</td>\n",
              "    </tr>\n",
              "  </tbody>\n",
              "</table>\n",
              "</div>"
            ],
            "text/plain": [
              "   PATIENT_ID  WAS_THERE_A_STROKE?\n",
              "0        9910                False\n",
              "1      953308                False\n",
              "2      936540                False\n",
              "3      902346                False\n",
              "4      894583                False"
            ]
          },
          "metadata": {
            "tags": []
          },
          "execution_count": 18
        }
      ]
    },
    {
      "cell_type": "code",
      "metadata": {
        "colab": {
          "base_uri": "https://localhost:8080/"
        },
        "id": "tne1cgGEHOXN",
        "outputId": "04a12972-c9d7-4b92-cd33-22ab21d6b5b1"
      },
      "source": [
        "#How many unique episodes do patients who have not been diagnosed with stroke have in their history?\r\n",
        "q3 = pd.merge(services[['PATIENT_ID','EPISODE_ID']], patients, on='PATIENT_ID', how='left')\r\n",
        "q3 = q3.reset_index(drop=True)\r\n",
        "q3['EPISODE_ID'] = pd.DataFrame(pd.unique(q3['EPISODE_ID']))\r\n",
        "q3.dropna(inplace=True)\r\n",
        "q3['EPISODE_ID'] = q3['EPISODE_ID'].astype(int)\r\n",
        "q3 = q3[q3['WAS_THERE_A_STROKE?'] == False]\r\n",
        "q3"
      ],
      "execution_count": null,
      "outputs": [
        {
          "output_type": "execute_result",
          "data": {
            "text/html": [
              "<div>\n",
              "<style scoped>\n",
              "    .dataframe tbody tr th:only-of-type {\n",
              "        vertical-align: middle;\n",
              "    }\n",
              "\n",
              "    .dataframe tbody tr th {\n",
              "        vertical-align: top;\n",
              "    }\n",
              "\n",
              "    .dataframe thead th {\n",
              "        text-align: right;\n",
              "    }\n",
              "</style>\n",
              "<table border=\"1\" class=\"dataframe\">\n",
              "  <thead>\n",
              "    <tr style=\"text-align: right;\">\n",
              "      <th></th>\n",
              "      <th>PATIENT_ID</th>\n",
              "      <th>EPISODE_ID</th>\n",
              "      <th>WAS_THERE_A_STROKE?</th>\n",
              "    </tr>\n",
              "  </thead>\n",
              "  <tbody>\n",
              "    <tr>\n",
              "      <th>0</th>\n",
              "      <td>21466</td>\n",
              "      <td>55625667</td>\n",
              "      <td>False</td>\n",
              "    </tr>\n",
              "    <tr>\n",
              "      <th>1</th>\n",
              "      <td>197685</td>\n",
              "      <td>84652115</td>\n",
              "      <td>False</td>\n",
              "    </tr>\n",
              "    <tr>\n",
              "      <th>2</th>\n",
              "      <td>21466</td>\n",
              "      <td>13879209</td>\n",
              "      <td>False</td>\n",
              "    </tr>\n",
              "    <tr>\n",
              "      <th>3</th>\n",
              "      <td>372836</td>\n",
              "      <td>46476951</td>\n",
              "      <td>False</td>\n",
              "    </tr>\n",
              "    <tr>\n",
              "      <th>4</th>\n",
              "      <td>845904</td>\n",
              "      <td>87283796</td>\n",
              "      <td>False</td>\n",
              "    </tr>\n",
              "    <tr>\n",
              "      <th>...</th>\n",
              "      <td>...</td>\n",
              "      <td>...</td>\n",
              "      <td>...</td>\n",
              "    </tr>\n",
              "    <tr>\n",
              "      <th>10526190</th>\n",
              "      <td>919990</td>\n",
              "      <td>21379731</td>\n",
              "      <td>False</td>\n",
              "    </tr>\n",
              "    <tr>\n",
              "      <th>10526191</th>\n",
              "      <td>798048</td>\n",
              "      <td>16425409</td>\n",
              "      <td>False</td>\n",
              "    </tr>\n",
              "    <tr>\n",
              "      <th>10526192</th>\n",
              "      <td>798048</td>\n",
              "      <td>8034156</td>\n",
              "      <td>False</td>\n",
              "    </tr>\n",
              "    <tr>\n",
              "      <th>10526193</th>\n",
              "      <td>798048</td>\n",
              "      <td>43052692</td>\n",
              "      <td>False</td>\n",
              "    </tr>\n",
              "    <tr>\n",
              "      <th>10526194</th>\n",
              "      <td>459050</td>\n",
              "      <td>36430359</td>\n",
              "      <td>False</td>\n",
              "    </tr>\n",
              "  </tbody>\n",
              "</table>\n",
              "<p>10432109 rows × 3 columns</p>\n",
              "</div>"
            ],
            "text/plain": [
              "          PATIENT_ID  EPISODE_ID  WAS_THERE_A_STROKE?\n",
              "0              21466    55625667                False\n",
              "1             197685    84652115                False\n",
              "2              21466    13879209                False\n",
              "3             372836    46476951                False\n",
              "4             845904    87283796                False\n",
              "...              ...         ...                  ...\n",
              "10526190      919990    21379731                False\n",
              "10526191      798048    16425409                False\n",
              "10526192      798048     8034156                False\n",
              "10526193      798048    43052692                False\n",
              "10526194      459050    36430359                False\n",
              "\n",
              "[10432109 rows x 3 columns]"
            ]
          },
          "metadata": {
            "tags": []
          },
          "execution_count": 19
        }
      ]
    },
    {
      "cell_type": "code",
      "metadata": {
        "colab": {
          "base_uri": "https://localhost:8080/"
        },
        "id": "1PDFKH1mfsWq",
        "outputId": "b40a444e-0db1-413a-9c17-f6e61d0ae1c4"
      },
      "source": [
        "len(q3['EPISODE_ID'])"
      ],
      "execution_count": null,
      "outputs": [
        {
          "output_type": "execute_result",
          "data": {
            "text/plain": [
              "10432109"
            ]
          },
          "metadata": {
            "tags": []
          },
          "execution_count": 20
        }
      ]
    },
    {
      "cell_type": "code",
      "metadata": {
        "colab": {
          "base_uri": "https://localhost:8080/"
        },
        "id": "rbrYIiN-HT-3",
        "outputId": "46b01738-8daf-4e87-ee55-9f666c237806"
      },
      "source": [
        "# How many drug packages were issued in total? \r\n",
        "prescriptions = pd.read_csv('data/prescriptions.csv', header=0, usecols=['ID_PACJENTA','ID_RECEPTY','LICZBA_OPAKOWAN'], sep=';')\r\n",
        "prescriptions.columns=['PATIENT_ID','PRESCRIPTION_ID','NUMBER_OF_PACKAGES']\r\n",
        "prescriptions['NUMBER_OF_PACKAGES'] = [x.replace(',', '.') for x in prescriptions['NUMBER_OF_PACKAGES']]\r\n",
        "prescriptions['NUMBER_OF_PACKAGES'] = prescriptions['NUMBER_OF_PACKAGES'].astype(float)\r\n",
        "prescriptions"
      ],
      "execution_count": null,
      "outputs": [
        {
          "output_type": "execute_result",
          "data": {
            "text/html": [
              "<div>\n",
              "<style scoped>\n",
              "    .dataframe tbody tr th:only-of-type {\n",
              "        vertical-align: middle;\n",
              "    }\n",
              "\n",
              "    .dataframe tbody tr th {\n",
              "        vertical-align: top;\n",
              "    }\n",
              "\n",
              "    .dataframe thead th {\n",
              "        text-align: right;\n",
              "    }\n",
              "</style>\n",
              "<table border=\"1\" class=\"dataframe\">\n",
              "  <thead>\n",
              "    <tr style=\"text-align: right;\">\n",
              "      <th></th>\n",
              "      <th>PATIENT_ID</th>\n",
              "      <th>PRESCRIPTION_ID</th>\n",
              "      <th>NUMBER_OF_PACKAGES</th>\n",
              "    </tr>\n",
              "  </thead>\n",
              "  <tbody>\n",
              "    <tr>\n",
              "      <th>0</th>\n",
              "      <td>84791</td>\n",
              "      <td>1647291</td>\n",
              "      <td>1.0</td>\n",
              "    </tr>\n",
              "    <tr>\n",
              "      <th>1</th>\n",
              "      <td>727677</td>\n",
              "      <td>9780539</td>\n",
              "      <td>1.0</td>\n",
              "    </tr>\n",
              "    <tr>\n",
              "      <th>2</th>\n",
              "      <td>727677</td>\n",
              "      <td>9780539</td>\n",
              "      <td>2.0</td>\n",
              "    </tr>\n",
              "    <tr>\n",
              "      <th>3</th>\n",
              "      <td>860373</td>\n",
              "      <td>5235544</td>\n",
              "      <td>1.0</td>\n",
              "    </tr>\n",
              "    <tr>\n",
              "      <th>4</th>\n",
              "      <td>860373</td>\n",
              "      <td>5235544</td>\n",
              "      <td>1.0</td>\n",
              "    </tr>\n",
              "    <tr>\n",
              "      <th>...</th>\n",
              "      <td>...</td>\n",
              "      <td>...</td>\n",
              "      <td>...</td>\n",
              "    </tr>\n",
              "    <tr>\n",
              "      <th>8410121</th>\n",
              "      <td>713781</td>\n",
              "      <td>5848253</td>\n",
              "      <td>3.0</td>\n",
              "    </tr>\n",
              "    <tr>\n",
              "      <th>8410122</th>\n",
              "      <td>713781</td>\n",
              "      <td>5544505</td>\n",
              "      <td>1.0</td>\n",
              "    </tr>\n",
              "    <tr>\n",
              "      <th>8410123</th>\n",
              "      <td>713781</td>\n",
              "      <td>3538335</td>\n",
              "      <td>1.0</td>\n",
              "    </tr>\n",
              "    <tr>\n",
              "      <th>8410124</th>\n",
              "      <td>296911</td>\n",
              "      <td>8017125</td>\n",
              "      <td>2.0</td>\n",
              "    </tr>\n",
              "    <tr>\n",
              "      <th>8410125</th>\n",
              "      <td>979081</td>\n",
              "      <td>4220230</td>\n",
              "      <td>2.0</td>\n",
              "    </tr>\n",
              "  </tbody>\n",
              "</table>\n",
              "<p>8410126 rows × 3 columns</p>\n",
              "</div>"
            ],
            "text/plain": [
              "         PATIENT_ID  PRESCRIPTION_ID  NUMBER_OF_PACKAGES\n",
              "0             84791          1647291                 1.0\n",
              "1            727677          9780539                 1.0\n",
              "2            727677          9780539                 2.0\n",
              "3            860373          5235544                 1.0\n",
              "4            860373          5235544                 1.0\n",
              "...             ...              ...                 ...\n",
              "8410121      713781          5848253                 3.0\n",
              "8410122      713781          5544505                 1.0\n",
              "8410123      713781          3538335                 1.0\n",
              "8410124      296911          8017125                 2.0\n",
              "8410125      979081          4220230                 2.0\n",
              "\n",
              "[8410126 rows x 3 columns]"
            ]
          },
          "metadata": {
            "tags": []
          },
          "execution_count": 21
        }
      ]
    },
    {
      "cell_type": "code",
      "metadata": {
        "colab": {
          "base_uri": "https://localhost:8080/"
        },
        "id": "2LVNUBegf3RE",
        "outputId": "be4bec7f-2802-4bd8-f078-a26c1add311d"
      },
      "source": [
        "round(sum(prescriptions['NUMBER_OF_PACKAGES']),0)"
      ],
      "execution_count": null,
      "outputs": [
        {
          "output_type": "execute_result",
          "data": {
            "text/plain": [
              "14063698.0"
            ]
          },
          "metadata": {
            "tags": []
          },
          "execution_count": 22
        }
      ]
    },
    {
      "cell_type": "code",
      "metadata": {
        "colab": {
          "base_uri": "https://localhost:8080/"
        },
        "id": "S5tP0U7wHdBY",
        "outputId": "84d7182b-aff9-4cf4-c56a-f90c1bdde151"
      },
      "source": [
        "#What percentage are patients who have been diagnosed with a stroke?  \r\n",
        "\r\n",
        "q4 = patients.groupby('WAS_THERE_A_STROKE?')['PATIENT_ID'].count()\r\n",
        "q4 = q4.to_frame().reset_index()\r\n",
        "q4 = q4.rename(columns= {'PATIENT_ID': 'NUMBER_OF_PATIENTS'})\r\n",
        "q4['WAS_THERE_A_STROKE?'] = q4['WAS_THERE_A_STROKE?'].astype(str)\r\n",
        "q4['WAS_THERE_A_STROKE?'] = [x.replace('False', 'Not diagnosed') for x in q4['WAS_THERE_A_STROKE?']]\r\n",
        "q4['WAS_THERE_A_STROKE?'] = [x.replace('True', 'Diagnosed') for x in q4['WAS_THERE_A_STROKE?']]\r\n",
        "q4['WAS_THERE_A_STROKE?'] = q4['WAS_THERE_A_STROKE?'].astype(object)\r\n",
        "q4"
      ],
      "execution_count": null,
      "outputs": [
        {
          "output_type": "execute_result",
          "data": {
            "text/html": [
              "<div>\n",
              "<style scoped>\n",
              "    .dataframe tbody tr th:only-of-type {\n",
              "        vertical-align: middle;\n",
              "    }\n",
              "\n",
              "    .dataframe tbody tr th {\n",
              "        vertical-align: top;\n",
              "    }\n",
              "\n",
              "    .dataframe thead th {\n",
              "        text-align: right;\n",
              "    }\n",
              "</style>\n",
              "<table border=\"1\" class=\"dataframe\">\n",
              "  <thead>\n",
              "    <tr style=\"text-align: right;\">\n",
              "      <th></th>\n",
              "      <th>WAS_THERE_A_STROKE?</th>\n",
              "      <th>NUMBER_OF_PATIENTS</th>\n",
              "    </tr>\n",
              "  </thead>\n",
              "  <tbody>\n",
              "    <tr>\n",
              "      <th>0</th>\n",
              "      <td>Not diagnosed</td>\n",
              "      <td>497029</td>\n",
              "    </tr>\n",
              "    <tr>\n",
              "      <th>1</th>\n",
              "      <td>Diagnosed</td>\n",
              "      <td>2971</td>\n",
              "    </tr>\n",
              "  </tbody>\n",
              "</table>\n",
              "</div>"
            ],
            "text/plain": [
              "  WAS_THERE_A_STROKE?  NUMBER_OF_PATIENTS\n",
              "0       Not diagnosed              497029\n",
              "1           Diagnosed                2971"
            ]
          },
          "metadata": {
            "tags": []
          },
          "execution_count": 23
        }
      ]
    },
    {
      "cell_type": "code",
      "metadata": {
        "id": "-qIZKlm4f79-",
        "colab": {
          "base_uri": "https://localhost:8080/"
        },
        "outputId": "b7c2f83c-9c2c-4d2d-9928-8f0b24ed3865"
      },
      "source": [
        "fig, ax = plt.subplots(figsize=(15, 7))\r\n",
        "plt.title('What percentage are patients who have been diagnosed with an ischemic stroke?', fontdict = {'fontsize' : 18})\r\n",
        "ax.pie(q4['NUMBER_OF_PATIENTS'], colors = ['#ff9999','#66b3ff'], autopct='%1.1f%%', startangle=0, pctdistance=1.125)\r\n",
        "centre_circle = plt.Circle((0,0),0.50,fc='white')\r\n",
        "fig = plt.gcf()\r\n",
        "fig.gca().add_artist(centre_circle)\r\n",
        "ax.axis('equal')  \r\n",
        "plt.tight_layout()\r\n",
        "plt.legend(['Not diagnosed','Diagnosed'])\r\n",
        "plt.show()"
      ],
      "execution_count": null,
      "outputs": [
        {
          "output_type": "display_data",
          "data": {
            "image/png": "[encoded data removed]",
            "text/plain": [
              "<Figure size 1080x504 with 1 Axes>"
            ]
          },
          "metadata": {
            "tags": []
          }
        }
      ]
    },
    {
      "cell_type": "code",
      "metadata": {
        "colab": {
          "base_uri": "https://localhost:8080/"
        },
        "id": "XUTE7rOpHiue",
        "outputId": "c33569a7-4d55-4f4b-a9dc-f55740a0f767"
      },
      "source": [
        "parameters = pd.read_csv('data/patient_parameters.csv', header=0, sep=';', encoding='ISO-8859-2')\r\n",
        "parameters.columns=['PATIENT_ID','AGE_GROUP','GENDER','DISTRICT_TERRITORY']\r\n",
        "parameters.head()"
      ],
      "execution_count": null,
      "outputs": [
        {
          "output_type": "execute_result",
          "data": {
            "text/html": [
              "<div>\n",
              "<style scoped>\n",
              "    .dataframe tbody tr th:only-of-type {\n",
              "        vertical-align: middle;\n",
              "    }\n",
              "\n",
              "    .dataframe tbody tr th {\n",
              "        vertical-align: top;\n",
              "    }\n",
              "\n",
              "    .dataframe thead th {\n",
              "        text-align: right;\n",
              "    }\n",
              "</style>\n",
              "<table border=\"1\" class=\"dataframe\">\n",
              "  <thead>\n",
              "    <tr style=\"text-align: right;\">\n",
              "      <th></th>\n",
              "      <th>PATIENT_ID</th>\n",
              "      <th>AGE_GROUP</th>\n",
              "      <th>GENDER</th>\n",
              "      <th>DISTRICT_TERRITORY</th>\n",
              "    </tr>\n",
              "  </thead>\n",
              "  <tbody>\n",
              "    <tr>\n",
              "      <th>0</th>\n",
              "      <td>792137</td>\n",
              "      <td>(73,78]</td>\n",
              "      <td>2</td>\n",
              "      <td>2212.0</td>\n",
              "    </tr>\n",
              "    <tr>\n",
              "      <th>1</th>\n",
              "      <td>366964</td>\n",
              "      <td>(38,43]</td>\n",
              "      <td>2</td>\n",
              "      <td>2207.0</td>\n",
              "    </tr>\n",
              "    <tr>\n",
              "      <th>2</th>\n",
              "      <td>786905</td>\n",
              "      <td>(63,68]</td>\n",
              "      <td>1</td>\n",
              "      <td>2209.0</td>\n",
              "    </tr>\n",
              "    <tr>\n",
              "      <th>3</th>\n",
              "      <td>210416</td>\n",
              "      <td>(23,28]</td>\n",
              "      <td>2</td>\n",
              "      <td>2216.0</td>\n",
              "    </tr>\n",
              "    <tr>\n",
              "      <th>4</th>\n",
              "      <td>643866</td>\n",
              "      <td>(58,63]</td>\n",
              "      <td>1</td>\n",
              "      <td>2263.0</td>\n",
              "    </tr>\n",
              "  </tbody>\n",
              "</table>\n",
              "</div>"
            ],
            "text/plain": [
              "   PATIENT_ID AGE_GROUP  GENDER  DISTRICT_TERRITORY\n",
              "0      792137   (73,78]       2              2212.0\n",
              "1      366964   (38,43]       2              2207.0\n",
              "2      786905   (63,68]       1              2209.0\n",
              "3      210416   (23,28]       2              2216.0\n",
              "4      643866   (58,63]       1              2263.0"
            ]
          },
          "metadata": {
            "tags": []
          },
          "execution_count": 25
        }
      ]
    },
    {
      "cell_type": "code",
      "metadata": {
        "colab": {
          "base_uri": "https://localhost:8080/"
        },
        "id": "OKyClKxHj3E2",
        "outputId": "3837333d-c004-4f1d-8c18-5f60280eadd8"
      },
      "source": [
        "# Adding the column 'WAS_THERE_A_STROKE?'\r\n",
        "parameters = pd.merge(parameters, patients, on='PATIENT_ID', how='left')\r\n",
        "parameters = parameters.reset_index(drop=True)\r\n",
        "parameters.head()"
      ],
      "execution_count": null,
      "outputs": [
        {
          "output_type": "execute_result",
          "data": {
            "text/html": [
              "<div>\n",
              "<style scoped>\n",
              "    .dataframe tbody tr th:only-of-type {\n",
              "        vertical-align: middle;\n",
              "    }\n",
              "\n",
              "    .dataframe tbody tr th {\n",
              "        vertical-align: top;\n",
              "    }\n",
              "\n",
              "    .dataframe thead th {\n",
              "        text-align: right;\n",
              "    }\n",
              "</style>\n",
              "<table border=\"1\" class=\"dataframe\">\n",
              "  <thead>\n",
              "    <tr style=\"text-align: right;\">\n",
              "      <th></th>\n",
              "      <th>PATIENT_ID</th>\n",
              "      <th>AGE_GROUP</th>\n",
              "      <th>GENDER</th>\n",
              "      <th>DISTRICT_TERRITORY</th>\n",
              "      <th>WAS_THERE_A_STROKE?</th>\n",
              "    </tr>\n",
              "  </thead>\n",
              "  <tbody>\n",
              "    <tr>\n",
              "      <th>0</th>\n",
              "      <td>792137</td>\n",
              "      <td>(73,78]</td>\n",
              "      <td>2</td>\n",
              "      <td>2212.0</td>\n",
              "      <td>False</td>\n",
              "    </tr>\n",
              "    <tr>\n",
              "      <th>1</th>\n",
              "      <td>366964</td>\n",
              "      <td>(38,43]</td>\n",
              "      <td>2</td>\n",
              "      <td>2207.0</td>\n",
              "      <td>False</td>\n",
              "    </tr>\n",
              "    <tr>\n",
              "      <th>2</th>\n",
              "      <td>786905</td>\n",
              "      <td>(63,68]</td>\n",
              "      <td>1</td>\n",
              "      <td>2209.0</td>\n",
              "      <td>False</td>\n",
              "    </tr>\n",
              "    <tr>\n",
              "      <th>3</th>\n",
              "      <td>210416</td>\n",
              "      <td>(23,28]</td>\n",
              "      <td>2</td>\n",
              "      <td>2216.0</td>\n",
              "      <td>False</td>\n",
              "    </tr>\n",
              "    <tr>\n",
              "      <th>4</th>\n",
              "      <td>643866</td>\n",
              "      <td>(58,63]</td>\n",
              "      <td>1</td>\n",
              "      <td>2263.0</td>\n",
              "      <td>False</td>\n",
              "    </tr>\n",
              "  </tbody>\n",
              "</table>\n",
              "</div>"
            ],
            "text/plain": [
              "   PATIENT_ID AGE_GROUP  GENDER  DISTRICT_TERRITORY  WAS_THERE_A_STROKE?\n",
              "0      792137   (73,78]       2              2212.0                False\n",
              "1      366964   (38,43]       2              2207.0                False\n",
              "2      786905   (63,68]       1              2209.0                False\n",
              "3      210416   (23,28]       2              2216.0                False\n",
              "4      643866   (58,63]       1              2263.0                False"
            ]
          },
          "metadata": {
            "tags": []
          },
          "execution_count": 26
        }
      ]
    },
    {
      "cell_type": "code",
      "metadata": {
        "colab": {
          "base_uri": "https://localhost:8080/"
        },
        "id": "mRbbJfSEHt_6",
        "outputId": "f5b69477-c7eb-486e-dacd-705669b66aae"
      },
      "source": [
        "#Patients who have been diagnosed with a stroke\r\n",
        "parameters_with_stroke = parameters[parameters['WAS_THERE_A_STROKE?'] == True]\r\n",
        "parameters_with_stroke"
      ],
      "execution_count": null,
      "outputs": [
        {
          "output_type": "execute_result",
          "data": {
            "text/html": [
              "<div>\n",
              "<style scoped>\n",
              "    .dataframe tbody tr th:only-of-type {\n",
              "        vertical-align: middle;\n",
              "    }\n",
              "\n",
              "    .dataframe tbody tr th {\n",
              "        vertical-align: top;\n",
              "    }\n",
              "\n",
              "    .dataframe thead th {\n",
              "        text-align: right;\n",
              "    }\n",
              "</style>\n",
              "<table border=\"1\" class=\"dataframe\">\n",
              "  <thead>\n",
              "    <tr style=\"text-align: right;\">\n",
              "      <th></th>\n",
              "      <th>PATIENT_ID</th>\n",
              "      <th>AGE_GROUP</th>\n",
              "      <th>GENDER</th>\n",
              "      <th>DISTRICT_TERRITORY</th>\n",
              "      <th>WAS_THERE_A_STROKE?</th>\n",
              "    </tr>\n",
              "  </thead>\n",
              "  <tbody>\n",
              "    <tr>\n",
              "      <th>171</th>\n",
              "      <td>710295</td>\n",
              "      <td>(58,63]</td>\n",
              "      <td>1</td>\n",
              "      <td>2204.0</td>\n",
              "      <td>True</td>\n",
              "    </tr>\n",
              "    <tr>\n",
              "      <th>183</th>\n",
              "      <td>794086</td>\n",
              "      <td>(88,93]</td>\n",
              "      <td>1</td>\n",
              "      <td>2262.0</td>\n",
              "      <td>True</td>\n",
              "    </tr>\n",
              "    <tr>\n",
              "      <th>212</th>\n",
              "      <td>881668</td>\n",
              "      <td>(68,73]</td>\n",
              "      <td>2</td>\n",
              "      <td>2262.0</td>\n",
              "      <td>True</td>\n",
              "    </tr>\n",
              "    <tr>\n",
              "      <th>218</th>\n",
              "      <td>887188</td>\n",
              "      <td>(58,63]</td>\n",
              "      <td>2</td>\n",
              "      <td>2213.0</td>\n",
              "      <td>True</td>\n",
              "    </tr>\n",
              "    <tr>\n",
              "      <th>489</th>\n",
              "      <td>223491</td>\n",
              "      <td>(58,63]</td>\n",
              "      <td>1</td>\n",
              "      <td>2261.0</td>\n",
              "      <td>True</td>\n",
              "    </tr>\n",
              "    <tr>\n",
              "      <th>...</th>\n",
              "      <td>...</td>\n",
              "      <td>...</td>\n",
              "      <td>...</td>\n",
              "      <td>...</td>\n",
              "      <td>...</td>\n",
              "    </tr>\n",
              "    <tr>\n",
              "      <th>499439</th>\n",
              "      <td>990364</td>\n",
              "      <td>(88,93]</td>\n",
              "      <td>1</td>\n",
              "      <td>2202.0</td>\n",
              "      <td>True</td>\n",
              "    </tr>\n",
              "    <tr>\n",
              "      <th>499476</th>\n",
              "      <td>906285</td>\n",
              "      <td>(78,83]</td>\n",
              "      <td>2</td>\n",
              "      <td>2210.0</td>\n",
              "      <td>True</td>\n",
              "    </tr>\n",
              "    <tr>\n",
              "      <th>499598</th>\n",
              "      <td>872536</td>\n",
              "      <td>(88,93]</td>\n",
              "      <td>2</td>\n",
              "      <td>2211.0</td>\n",
              "      <td>True</td>\n",
              "    </tr>\n",
              "    <tr>\n",
              "      <th>499806</th>\n",
              "      <td>94967</td>\n",
              "      <td>(68,73]</td>\n",
              "      <td>1</td>\n",
              "      <td>2263.0</td>\n",
              "      <td>True</td>\n",
              "    </tr>\n",
              "    <tr>\n",
              "      <th>499845</th>\n",
              "      <td>501991</td>\n",
              "      <td>(63,68]</td>\n",
              "      <td>1</td>\n",
              "      <td>2214.0</td>\n",
              "      <td>True</td>\n",
              "    </tr>\n",
              "  </tbody>\n",
              "</table>\n",
              "<p>2971 rows × 5 columns</p>\n",
              "</div>"
            ],
            "text/plain": [
              "        PATIENT_ID AGE_GROUP  GENDER  DISTRICT_TERRITORY  WAS_THERE_A_STROKE?\n",
              "171         710295   (58,63]       1              2204.0                 True\n",
              "183         794086   (88,93]       1              2262.0                 True\n",
              "212         881668   (68,73]       2              2262.0                 True\n",
              "218         887188   (58,63]       2              2213.0                 True\n",
              "489         223491   (58,63]       1              2261.0                 True\n",
              "...            ...       ...     ...                 ...                  ...\n",
              "499439      990364   (88,93]       1              2202.0                 True\n",
              "499476      906285   (78,83]       2              2210.0                 True\n",
              "499598      872536   (88,93]       2              2211.0                 True\n",
              "499806       94967   (68,73]       1              2263.0                 True\n",
              "499845      501991   (63,68]       1              2214.0                 True\n",
              "\n",
              "[2971 rows x 5 columns]"
            ]
          },
          "metadata": {
            "tags": []
          },
          "execution_count": 27
        }
      ]
    },
    {
      "cell_type": "code",
      "metadata": {
        "colab": {
          "base_uri": "https://localhost:8080/"
        },
        "id": "Qg6EcJA09aYW",
        "outputId": "bd2e5c7c-314a-41d7-aeb8-bf9ef98bdff0"
      },
      "source": [
        "#How many patients in each age group have had a stroke?\r\n",
        "q5 = parameters_with_stroke.groupby('AGE_GROUP', as_index=False).agg({\"PATIENT_ID\": \"count\"})\r\n",
        "q5= q5.reindex([17,1,2,3,4,5,6,7,8,9,10,11,12,13,14,15,16,0])\r\n",
        "q5 = q5.reset_index(drop=True)\r\n",
        "q5 = q5.rename(columns= {'PATIENT_ID': 'NUMBER_OF_PATIENTS'})\r\n",
        "q5"
      ],
      "execution_count": null,
      "outputs": [
        {
          "output_type": "execute_result",
          "data": {
            "text/html": [
              "<div>\n",
              "<style scoped>\n",
              "    .dataframe tbody tr th:only-of-type {\n",
              "        vertical-align: middle;\n",
              "    }\n",
              "\n",
              "    .dataframe tbody tr th {\n",
              "        vertical-align: top;\n",
              "    }\n",
              "\n",
              "    .dataframe thead th {\n",
              "        text-align: right;\n",
              "    }\n",
              "</style>\n",
              "<table border=\"1\" class=\"dataframe\">\n",
              "  <thead>\n",
              "    <tr style=\"text-align: right;\">\n",
              "      <th></th>\n",
              "      <th>AGE_GROUP</th>\n",
              "      <th>NUMBER_OF_PATIENTS</th>\n",
              "    </tr>\n",
              "  </thead>\n",
              "  <tbody>\n",
              "    <tr>\n",
              "      <th>0</th>\n",
              "      <td>[18,23]</td>\n",
              "      <td>5</td>\n",
              "    </tr>\n",
              "    <tr>\n",
              "      <th>1</th>\n",
              "      <td>(23,28]</td>\n",
              "      <td>8</td>\n",
              "    </tr>\n",
              "    <tr>\n",
              "      <th>2</th>\n",
              "      <td>(28,33]</td>\n",
              "      <td>19</td>\n",
              "    </tr>\n",
              "    <tr>\n",
              "      <th>3</th>\n",
              "      <td>(33,38]</td>\n",
              "      <td>31</td>\n",
              "    </tr>\n",
              "    <tr>\n",
              "      <th>4</th>\n",
              "      <td>(38,43]</td>\n",
              "      <td>53</td>\n",
              "    </tr>\n",
              "    <tr>\n",
              "      <th>5</th>\n",
              "      <td>(43,48]</td>\n",
              "      <td>89</td>\n",
              "    </tr>\n",
              "    <tr>\n",
              "      <th>6</th>\n",
              "      <td>(48,53]</td>\n",
              "      <td>95</td>\n",
              "    </tr>\n",
              "    <tr>\n",
              "      <th>7</th>\n",
              "      <td>(53,58]</td>\n",
              "      <td>206</td>\n",
              "    </tr>\n",
              "    <tr>\n",
              "      <th>8</th>\n",
              "      <td>(58,63]</td>\n",
              "      <td>325</td>\n",
              "    </tr>\n",
              "    <tr>\n",
              "      <th>9</th>\n",
              "      <td>(63,68]</td>\n",
              "      <td>424</td>\n",
              "    </tr>\n",
              "    <tr>\n",
              "      <th>10</th>\n",
              "      <td>(68,73]</td>\n",
              "      <td>389</td>\n",
              "    </tr>\n",
              "    <tr>\n",
              "      <th>11</th>\n",
              "      <td>(73,78]</td>\n",
              "      <td>387</td>\n",
              "    </tr>\n",
              "    <tr>\n",
              "      <th>12</th>\n",
              "      <td>(78,83]</td>\n",
              "      <td>423</td>\n",
              "    </tr>\n",
              "    <tr>\n",
              "      <th>13</th>\n",
              "      <td>(83,88]</td>\n",
              "      <td>321</td>\n",
              "    </tr>\n",
              "    <tr>\n",
              "      <th>14</th>\n",
              "      <td>(88,93]</td>\n",
              "      <td>157</td>\n",
              "    </tr>\n",
              "    <tr>\n",
              "      <th>15</th>\n",
              "      <td>(93,98]</td>\n",
              "      <td>36</td>\n",
              "    </tr>\n",
              "    <tr>\n",
              "      <th>16</th>\n",
              "      <td>(98,103]</td>\n",
              "      <td>1</td>\n",
              "    </tr>\n",
              "    <tr>\n",
              "      <th>17</th>\n",
              "      <td>(103,108]</td>\n",
              "      <td>2</td>\n",
              "    </tr>\n",
              "  </tbody>\n",
              "</table>\n",
              "</div>"
            ],
            "text/plain": [
              "    AGE_GROUP  NUMBER_OF_PATIENTS\n",
              "0     [18,23]                   5\n",
              "1     (23,28]                   8\n",
              "2     (28,33]                  19\n",
              "3     (33,38]                  31\n",
              "4     (38,43]                  53\n",
              "5     (43,48]                  89\n",
              "6     (48,53]                  95\n",
              "7     (53,58]                 206\n",
              "8     (58,63]                 325\n",
              "9     (63,68]                 424\n",
              "10    (68,73]                 389\n",
              "11    (73,78]                 387\n",
              "12    (78,83]                 423\n",
              "13    (83,88]                 321\n",
              "14    (88,93]                 157\n",
              "15    (93,98]                  36\n",
              "16   (98,103]                   1\n",
              "17  (103,108]                   2"
            ]
          },
          "metadata": {
            "tags": []
          },
          "execution_count": 28
        }
      ]
    },
    {
      "cell_type": "code",
      "metadata": {
        "id": "evst-1OHH0hu",
        "colab": {
          "base_uri": "https://localhost:8080/",
          "height": 521
        },
        "outputId": "c0b1bb0d-39b2-43ad-fddb-f752e2097c62"
      },
      "source": [
        "fig1, ax = plt.subplots(figsize=(15, 7))\r\n",
        "plt.title('How many patients in each age group have had a stroke?', fontdict = {'fontsize' : 18})\r\n",
        "ax.bar(q5['AGE_GROUP'], q5['NUMBER_OF_PATIENTS'], width=0.8, color=sns.color_palette('magma', 18))\r\n",
        "for i in q5.index:\r\n",
        "    ax.annotate(f\"{q5['NUMBER_OF_PATIENTS'][i]}\", xy=(i, q5['NUMBER_OF_PATIENTS'][i] + 10), va = 'center', ha='center', \r\n",
        "                fontsize=11, fontweight='light', color='black')\r\n",
        "ax.set_xticklabels(q5['AGE_GROUP'], rotation=20) \r\n",
        "ax.set_xlabel('AGE GROUP')\r\n",
        "ax.set_ylabel('NUMBER OF PATIENTS')\r\n",
        "plt.show()"
      ],
      "execution_count": 59,
      "outputs": [
        {
          "output_type": "display_data",
          "data": {
            "image/png": "[encoded data removed]",
            "text/plain": [
              "<Figure size 1080x504 with 1 Axes>"
            ]
          },
          "metadata": {
            "tags": []
          }
        }
      ]
    },
    {
      "cell_type": "code",
      "metadata": {
        "colab": {
          "base_uri": "https://localhost:8080/"
        },
        "id": "kuwIzCtBH3TS",
        "outputId": "69ab2d76-233c-4275-9d23-84291db05d33"
      },
      "source": [
        "#Patients who have not been diagnosed with a stroke\r\n",
        "parameters_without_stroke = parameters[parameters['WAS_THERE_A_STROKE?'] == False]\r\n",
        "parameters_without_stroke"
      ],
      "execution_count": null,
      "outputs": [
        {
          "output_type": "execute_result",
          "data": {
            "text/html": [
              "<div>\n",
              "<style scoped>\n",
              "    .dataframe tbody tr th:only-of-type {\n",
              "        vertical-align: middle;\n",
              "    }\n",
              "\n",
              "    .dataframe tbody tr th {\n",
              "        vertical-align: top;\n",
              "    }\n",
              "\n",
              "    .dataframe thead th {\n",
              "        text-align: right;\n",
              "    }\n",
              "</style>\n",
              "<table border=\"1\" class=\"dataframe\">\n",
              "  <thead>\n",
              "    <tr style=\"text-align: right;\">\n",
              "      <th></th>\n",
              "      <th>PATIENT_ID</th>\n",
              "      <th>AGE_GROUP</th>\n",
              "      <th>GENDER</th>\n",
              "      <th>DISTRICT_TERRITORY</th>\n",
              "      <th>WAS_THERE_A_STROKE?</th>\n",
              "    </tr>\n",
              "  </thead>\n",
              "  <tbody>\n",
              "    <tr>\n",
              "      <th>0</th>\n",
              "      <td>792137</td>\n",
              "      <td>(73,78]</td>\n",
              "      <td>2</td>\n",
              "      <td>2212.0</td>\n",
              "      <td>False</td>\n",
              "    </tr>\n",
              "    <tr>\n",
              "      <th>1</th>\n",
              "      <td>366964</td>\n",
              "      <td>(38,43]</td>\n",
              "      <td>2</td>\n",
              "      <td>2207.0</td>\n",
              "      <td>False</td>\n",
              "    </tr>\n",
              "    <tr>\n",
              "      <th>2</th>\n",
              "      <td>786905</td>\n",
              "      <td>(63,68]</td>\n",
              "      <td>1</td>\n",
              "      <td>2209.0</td>\n",
              "      <td>False</td>\n",
              "    </tr>\n",
              "    <tr>\n",
              "      <th>3</th>\n",
              "      <td>210416</td>\n",
              "      <td>(23,28]</td>\n",
              "      <td>2</td>\n",
              "      <td>2216.0</td>\n",
              "      <td>False</td>\n",
              "    </tr>\n",
              "    <tr>\n",
              "      <th>4</th>\n",
              "      <td>643866</td>\n",
              "      <td>(58,63]</td>\n",
              "      <td>1</td>\n",
              "      <td>2263.0</td>\n",
              "      <td>False</td>\n",
              "    </tr>\n",
              "    <tr>\n",
              "      <th>...</th>\n",
              "      <td>...</td>\n",
              "      <td>...</td>\n",
              "      <td>...</td>\n",
              "      <td>...</td>\n",
              "      <td>...</td>\n",
              "    </tr>\n",
              "    <tr>\n",
              "      <th>499995</th>\n",
              "      <td>182191</td>\n",
              "      <td>(53,58]</td>\n",
              "      <td>1</td>\n",
              "      <td>2215.0</td>\n",
              "      <td>False</td>\n",
              "    </tr>\n",
              "    <tr>\n",
              "      <th>499996</th>\n",
              "      <td>933352</td>\n",
              "      <td>(33,38]</td>\n",
              "      <td>2</td>\n",
              "      <td>2213.0</td>\n",
              "      <td>False</td>\n",
              "    </tr>\n",
              "    <tr>\n",
              "      <th>499997</th>\n",
              "      <td>653177</td>\n",
              "      <td>(28,33]</td>\n",
              "      <td>2</td>\n",
              "      <td>2207.0</td>\n",
              "      <td>False</td>\n",
              "    </tr>\n",
              "    <tr>\n",
              "      <th>499998</th>\n",
              "      <td>476208</td>\n",
              "      <td>(38,43]</td>\n",
              "      <td>2</td>\n",
              "      <td>2209.0</td>\n",
              "      <td>False</td>\n",
              "    </tr>\n",
              "    <tr>\n",
              "      <th>499999</th>\n",
              "      <td>573705</td>\n",
              "      <td>(38,43]</td>\n",
              "      <td>2</td>\n",
              "      <td>2207.0</td>\n",
              "      <td>False</td>\n",
              "    </tr>\n",
              "  </tbody>\n",
              "</table>\n",
              "<p>497029 rows × 5 columns</p>\n",
              "</div>"
            ],
            "text/plain": [
              "        PATIENT_ID AGE_GROUP  GENDER  DISTRICT_TERRITORY  WAS_THERE_A_STROKE?\n",
              "0           792137   (73,78]       2              2212.0                False\n",
              "1           366964   (38,43]       2              2207.0                False\n",
              "2           786905   (63,68]       1              2209.0                False\n",
              "3           210416   (23,28]       2              2216.0                False\n",
              "4           643866   (58,63]       1              2263.0                False\n",
              "...            ...       ...     ...                 ...                  ...\n",
              "499995      182191   (53,58]       1              2215.0                False\n",
              "499996      933352   (33,38]       2              2213.0                False\n",
              "499997      653177   (28,33]       2              2207.0                False\n",
              "499998      476208   (38,43]       2              2209.0                False\n",
              "499999      573705   (38,43]       2              2207.0                False\n",
              "\n",
              "[497029 rows x 5 columns]"
            ]
          },
          "metadata": {
            "tags": []
          },
          "execution_count": 30
        }
      ]
    },
    {
      "cell_type": "code",
      "metadata": {
        "colab": {
          "base_uri": "https://localhost:8080/"
        },
        "id": "VQAKYL5SH80-",
        "outputId": "d83b4c46-4ea2-4fc8-a40b-872d923fd9a5"
      },
      "source": [
        "#How many patients in each age group have not had a stroke?\r\n",
        "q6 = parameters_without_stroke.groupby('AGE_GROUP', as_index=False).agg({\"PATIENT_ID\": \"count\"})\r\n",
        "q6 = q6.reindex([18,2,3,4,5,6,7,8,9,10,11,12,13,14,15,16,0,1])\r\n",
        "q6 = q6.reset_index(drop=True)\r\n",
        "q6 = q6.rename(columns= {'PATIENT_ID': 'NUMBER_OF_PATIENTS'})\r\n",
        "q6"
      ],
      "execution_count": null,
      "outputs": [
        {
          "output_type": "execute_result",
          "data": {
            "text/html": [
              "<div>\n",
              "<style scoped>\n",
              "    .dataframe tbody tr th:only-of-type {\n",
              "        vertical-align: middle;\n",
              "    }\n",
              "\n",
              "    .dataframe tbody tr th {\n",
              "        vertical-align: top;\n",
              "    }\n",
              "\n",
              "    .dataframe thead th {\n",
              "        text-align: right;\n",
              "    }\n",
              "</style>\n",
              "<table border=\"1\" class=\"dataframe\">\n",
              "  <thead>\n",
              "    <tr style=\"text-align: right;\">\n",
              "      <th></th>\n",
              "      <th>AGE_GROUP</th>\n",
              "      <th>NUMBER_OF_PATIENTS</th>\n",
              "    </tr>\n",
              "  </thead>\n",
              "  <tbody>\n",
              "    <tr>\n",
              "      <th>0</th>\n",
              "      <td>[18,23]</td>\n",
              "      <td>36295</td>\n",
              "    </tr>\n",
              "    <tr>\n",
              "      <th>1</th>\n",
              "      <td>(23,28]</td>\n",
              "      <td>39963</td>\n",
              "    </tr>\n",
              "    <tr>\n",
              "      <th>2</th>\n",
              "      <td>(28,33]</td>\n",
              "      <td>43517</td>\n",
              "    </tr>\n",
              "    <tr>\n",
              "      <th>3</th>\n",
              "      <td>(33,38]</td>\n",
              "      <td>45480</td>\n",
              "    </tr>\n",
              "    <tr>\n",
              "      <th>4</th>\n",
              "      <td>(38,43]</td>\n",
              "      <td>43213</td>\n",
              "    </tr>\n",
              "    <tr>\n",
              "      <th>5</th>\n",
              "      <td>(43,48]</td>\n",
              "      <td>37571</td>\n",
              "    </tr>\n",
              "    <tr>\n",
              "      <th>6</th>\n",
              "      <td>(48,53]</td>\n",
              "      <td>35333</td>\n",
              "    </tr>\n",
              "    <tr>\n",
              "      <th>7</th>\n",
              "      <td>(53,58]</td>\n",
              "      <td>40415</td>\n",
              "    </tr>\n",
              "    <tr>\n",
              "      <th>8</th>\n",
              "      <td>(58,63]</td>\n",
              "      <td>46658</td>\n",
              "    </tr>\n",
              "    <tr>\n",
              "      <th>9</th>\n",
              "      <td>(63,68]</td>\n",
              "      <td>42669</td>\n",
              "    </tr>\n",
              "    <tr>\n",
              "      <th>10</th>\n",
              "      <td>(68,73]</td>\n",
              "      <td>29660</td>\n",
              "    </tr>\n",
              "    <tr>\n",
              "      <th>11</th>\n",
              "      <td>(73,78]</td>\n",
              "      <td>20090</td>\n",
              "    </tr>\n",
              "    <tr>\n",
              "      <th>12</th>\n",
              "      <td>(78,83]</td>\n",
              "      <td>17769</td>\n",
              "    </tr>\n",
              "    <tr>\n",
              "      <th>13</th>\n",
              "      <td>(83,88]</td>\n",
              "      <td>11868</td>\n",
              "    </tr>\n",
              "    <tr>\n",
              "      <th>14</th>\n",
              "      <td>(88,93]</td>\n",
              "      <td>5176</td>\n",
              "    </tr>\n",
              "    <tr>\n",
              "      <th>15</th>\n",
              "      <td>(93,98]</td>\n",
              "      <td>1232</td>\n",
              "    </tr>\n",
              "    <tr>\n",
              "      <th>16</th>\n",
              "      <td>(103,108]</td>\n",
              "      <td>17</td>\n",
              "    </tr>\n",
              "    <tr>\n",
              "      <th>17</th>\n",
              "      <td>(108,113]</td>\n",
              "      <td>2</td>\n",
              "    </tr>\n",
              "  </tbody>\n",
              "</table>\n",
              "</div>"
            ],
            "text/plain": [
              "    AGE_GROUP  NUMBER_OF_PATIENTS\n",
              "0     [18,23]               36295\n",
              "1     (23,28]               39963\n",
              "2     (28,33]               43517\n",
              "3     (33,38]               45480\n",
              "4     (38,43]               43213\n",
              "5     (43,48]               37571\n",
              "6     (48,53]               35333\n",
              "7     (53,58]               40415\n",
              "8     (58,63]               46658\n",
              "9     (63,68]               42669\n",
              "10    (68,73]               29660\n",
              "11    (73,78]               20090\n",
              "12    (78,83]               17769\n",
              "13    (83,88]               11868\n",
              "14    (88,93]                5176\n",
              "15    (93,98]                1232\n",
              "16  (103,108]                  17\n",
              "17  (108,113]                   2"
            ]
          },
          "metadata": {
            "tags": []
          },
          "execution_count": 31
        }
      ]
    },
    {
      "cell_type": "code",
      "metadata": {
        "id": "OdiDx42IIBG_",
        "colab": {
          "base_uri": "https://localhost:8080/",
          "height": 521
        },
        "outputId": "f214802c-e4ea-46e9-ad45-237cd9198ca6"
      },
      "source": [
        "#How many patients in each age group have not had a stroke?\r\n",
        "fig2, ax = plt.subplots(figsize=(15, 7))\r\n",
        "plt.title('How many patients in each age group have not had a stroke?', fontdict = {'fontsize' : 18})\r\n",
        "ax.bar(q6['AGE_GROUP'], q6['NUMBER_OF_PATIENTS'], width=0.8, color=sns.color_palette(\"magma\", 18))\r\n",
        "for i in q6.index:\r\n",
        "    ax.annotate(f\"{q6['NUMBER_OF_PATIENTS'][i]}\", xy=(i, q6['NUMBER_OF_PATIENTS'][i] + 1000), va = 'center', ha='center', \r\n",
        "                fontsize=11, fontweight='light', color='black')\r\n",
        "ax.set_xticklabels(q6['AGE_GROUP'], rotation=20)  \r\n",
        "ax.set_xlabel('AGE GROUP')\r\n",
        "ax.set_ylabel('NUMBER OF PATIENTS')\r\n",
        "plt.show()"
      ],
      "execution_count": 61,
      "outputs": [
        {
          "output_type": "display_data",
          "data": {
            "image/png": "[encoded data removed]",
            "text/plain": [
              "<Figure size 1080x504 with 1 Axes>"
            ]
          },
          "metadata": {
            "tags": []
          }
        }
      ]
    },
    {
      "cell_type": "code",
      "metadata": {
        "colab": {
          "base_uri": "https://localhost:8080/"
        },
        "id": "CDd-hwayIEFM",
        "outputId": "5e258d14-b21f-47c3-8def-b7e84911c89d"
      },
      "source": [
        "#Patients diagnosed with stroke by gender\r\n",
        "q7 = parameters_with_stroke.groupby('GENDER')['PATIENT_ID'].count()\r\n",
        "q7 = q7.to_frame().reset_index()\r\n",
        "q7 = q7.rename(columns= {'PATIENT_ID': 'NUMBER_OF_PATIENTS'})\r\n",
        "q7['GENDER'] = q7['GENDER'].astype(str)\r\n",
        "q7['GENDER'] = [x.replace('1', 'Woman') for x in q7['GENDER']]\r\n",
        "q7['GENDER'] = [x.replace('2', 'Man') for x in q7['GENDER']]\r\n",
        "q7"
      ],
      "execution_count": null,
      "outputs": [
        {
          "output_type": "execute_result",
          "data": {
            "text/html": [
              "<div>\n",
              "<style scoped>\n",
              "    .dataframe tbody tr th:only-of-type {\n",
              "        vertical-align: middle;\n",
              "    }\n",
              "\n",
              "    .dataframe tbody tr th {\n",
              "        vertical-align: top;\n",
              "    }\n",
              "\n",
              "    .dataframe thead th {\n",
              "        text-align: right;\n",
              "    }\n",
              "</style>\n",
              "<table border=\"1\" class=\"dataframe\">\n",
              "  <thead>\n",
              "    <tr style=\"text-align: right;\">\n",
              "      <th></th>\n",
              "      <th>GENDER</th>\n",
              "      <th>NUMBER_OF_PATIENTS</th>\n",
              "    </tr>\n",
              "  </thead>\n",
              "  <tbody>\n",
              "    <tr>\n",
              "      <th>0</th>\n",
              "      <td>Woman</td>\n",
              "      <td>1360</td>\n",
              "    </tr>\n",
              "    <tr>\n",
              "      <th>1</th>\n",
              "      <td>Man</td>\n",
              "      <td>1611</td>\n",
              "    </tr>\n",
              "  </tbody>\n",
              "</table>\n",
              "</div>"
            ],
            "text/plain": [
              "  GENDER  NUMBER_OF_PATIENTS\n",
              "0  Woman                1360\n",
              "1    Man                1611"
            ]
          },
          "metadata": {
            "tags": []
          },
          "execution_count": 33
        }
      ]
    },
    {
      "cell_type": "code",
      "metadata": {
        "id": "ttRnCHusIJQX",
        "colab": {
          "base_uri": "https://localhost:8080/",
          "height": 459
        },
        "outputId": "c78db715-a33e-42fc-825e-8e52aed5919e"
      },
      "source": [
        "fig3, ax = plt.subplots(figsize=(15, 7))\r\n",
        "plt.title('Distribution of patients by gender with diagnosed stroke', fontdict = {'fontsize' : 18})\r\n",
        "ax.pie(q7['NUMBER_OF_PATIENTS'], colors = ['#e35959','#4d52ff'], autopct='%1.1f%%', startangle=90, pctdistance=1.2)\r\n",
        "ax.axis('equal')  \r\n",
        "plt.legend(['Woman','Man'])\r\n",
        "plt.show()"
      ],
      "execution_count": 62,
      "outputs": [
        {
          "output_type": "display_data",
          "data": {
            "image/png": "[encoded data removed]",
            "text/plain": [
              "<Figure size 1080x504 with 1 Axes>"
            ]
          },
          "metadata": {
            "tags": []
          }
        }
      ]
    },
    {
      "cell_type": "code",
      "metadata": {
        "colab": {
          "base_uri": "https://localhost:8080/"
        },
        "id": "xi81WG8wILOw",
        "outputId": "19e4cd89-80a2-4f4c-90e1-312d75e3b938"
      },
      "source": [
        "#Patients not diagnosed with stroke by gender \r\n",
        "q8 = parameters_without_stroke.groupby('GENDER')['PATIENT_ID'].count()\r\n",
        "q8 = q8.to_frame().reset_index()\r\n",
        "q8 = q8.rename(columns= {'PATIENT_ID': 'NUMBER_OF_PATIENTS'})\r\n",
        "q8['GENDER'] = q8['GENDER'].astype(str)\r\n",
        "q8['GENDER'] = [x.replace('1', 'Woman') for x in q8['GENDER']]\r\n",
        "q8['GENDER'] = [x.replace('2', 'Man') for x in q8['GENDER']]\r\n",
        "q8"
      ],
      "execution_count": null,
      "outputs": [
        {
          "output_type": "execute_result",
          "data": {
            "text/html": [
              "<div>\n",
              "<style scoped>\n",
              "    .dataframe tbody tr th:only-of-type {\n",
              "        vertical-align: middle;\n",
              "    }\n",
              "\n",
              "    .dataframe tbody tr th {\n",
              "        vertical-align: top;\n",
              "    }\n",
              "\n",
              "    .dataframe thead th {\n",
              "        text-align: right;\n",
              "    }\n",
              "</style>\n",
              "<table border=\"1\" class=\"dataframe\">\n",
              "  <thead>\n",
              "    <tr style=\"text-align: right;\">\n",
              "      <th></th>\n",
              "      <th>GENDER</th>\n",
              "      <th>NUMBER_OF_PATIENTS</th>\n",
              "    </tr>\n",
              "  </thead>\n",
              "  <tbody>\n",
              "    <tr>\n",
              "      <th>0</th>\n",
              "      <td>Woman</td>\n",
              "      <td>224886</td>\n",
              "    </tr>\n",
              "    <tr>\n",
              "      <th>1</th>\n",
              "      <td>Man</td>\n",
              "      <td>272143</td>\n",
              "    </tr>\n",
              "  </tbody>\n",
              "</table>\n",
              "</div>"
            ],
            "text/plain": [
              "  GENDER  NUMBER_OF_PATIENTS\n",
              "0  Woman              224886\n",
              "1    Man              272143"
            ]
          },
          "metadata": {
            "tags": []
          },
          "execution_count": 35
        }
      ]
    },
    {
      "cell_type": "code",
      "metadata": {
        "id": "leDP6O5gIO_x",
        "colab": {
          "base_uri": "https://localhost:8080/",
          "height": 459
        },
        "outputId": "85ed308a-b39c-4283-c7d6-5d768f626f4c"
      },
      "source": [
        "fig4, ax = plt.subplots(figsize=(15, 7))\r\n",
        "plt.title('Distribution of patients by gender without diagnosed stroke', fontdict = {'fontsize' : 18})\r\n",
        "ax.pie(q8['NUMBER_OF_PATIENTS'], colors = ['#e35959','#4d52ff'], autopct='%1.1f%%', startangle=90, pctdistance=1.2)\r\n",
        "ax.axis('equal')  \r\n",
        "plt.legend(['Woman','Man'])\r\n",
        "plt.show()"
      ],
      "execution_count": 63,
      "outputs": [
        {
          "output_type": "display_data",
          "data": {
            "image/png": "[encoded data removed]",
            "text/plain": [
              "<Figure size 1080x504 with 1 Axes>"
            ]
          },
          "metadata": {
            "tags": []
          }
        }
      ]
    },
    {
      "cell_type": "code",
      "metadata": {
        "colab": {
          "base_uri": "https://localhost:8080/"
        },
        "id": "GPtiadcWIR6y",
        "outputId": "7b61bf4d-1895-4fb8-8c63-780552013526"
      },
      "source": [
        "#The number of patients (descending) diagnosed with stroke divided into district territory code\r\n",
        "q9 = parameters_with_stroke.groupby('DISTRICT_TERRITORY')['PATIENT_ID'].count()\r\n",
        "q9 = q9.to_frame().reset_index()\r\n",
        "q9 = q9.rename(columns= {'PATIENT_ID': 'NUMBER_OF_PATIENTS'})\r\n",
        "q9 = q9.sort_values(by=['NUMBER_OF_PATIENTS'], ascending=False)\r\n",
        "q9 = q9.reset_index(drop=True)\r\n",
        "q9['DISTRICT_TERRITORY'] = q9['DISTRICT_TERRITORY'].astype(int)\r\n",
        "q9 = q9[0:15]\r\n",
        "q9"
      ],
      "execution_count": null,
      "outputs": [
        {
          "output_type": "execute_result",
          "data": {
            "text/html": [
              "<div>\n",
              "<style scoped>\n",
              "    .dataframe tbody tr th:only-of-type {\n",
              "        vertical-align: middle;\n",
              "    }\n",
              "\n",
              "    .dataframe tbody tr th {\n",
              "        vertical-align: top;\n",
              "    }\n",
              "\n",
              "    .dataframe thead th {\n",
              "        text-align: right;\n",
              "    }\n",
              "</style>\n",
              "<table border=\"1\" class=\"dataframe\">\n",
              "  <thead>\n",
              "    <tr style=\"text-align: right;\">\n",
              "      <th></th>\n",
              "      <th>DISTRICT_TERRITORY</th>\n",
              "      <th>NUMBER_OF_PATIENTS</th>\n",
              "    </tr>\n",
              "  </thead>\n",
              "  <tbody>\n",
              "    <tr>\n",
              "      <th>0</th>\n",
              "      <td>1465</td>\n",
              "      <td>111</td>\n",
              "    </tr>\n",
              "    <tr>\n",
              "      <th>1</th>\n",
              "      <td>1061</td>\n",
              "      <td>76</td>\n",
              "    </tr>\n",
              "    <tr>\n",
              "      <th>2</th>\n",
              "      <td>1261</td>\n",
              "      <td>44</td>\n",
              "    </tr>\n",
              "    <tr>\n",
              "      <th>3</th>\n",
              "      <td>3064</td>\n",
              "      <td>42</td>\n",
              "    </tr>\n",
              "    <tr>\n",
              "      <th>4</th>\n",
              "      <td>461</td>\n",
              "      <td>37</td>\n",
              "    </tr>\n",
              "    <tr>\n",
              "      <th>5</th>\n",
              "      <td>663</td>\n",
              "      <td>36</td>\n",
              "    </tr>\n",
              "    <tr>\n",
              "      <th>6</th>\n",
              "      <td>2261</td>\n",
              "      <td>36</td>\n",
              "    </tr>\n",
              "    <tr>\n",
              "      <th>7</th>\n",
              "      <td>2464</td>\n",
              "      <td>35</td>\n",
              "    </tr>\n",
              "    <tr>\n",
              "      <th>8</th>\n",
              "      <td>3262</td>\n",
              "      <td>35</td>\n",
              "    </tr>\n",
              "    <tr>\n",
              "      <th>9</th>\n",
              "      <td>264</td>\n",
              "      <td>31</td>\n",
              "    </tr>\n",
              "    <tr>\n",
              "      <th>10</th>\n",
              "      <td>2469</td>\n",
              "      <td>29</td>\n",
              "    </tr>\n",
              "    <tr>\n",
              "      <th>11</th>\n",
              "      <td>2061</td>\n",
              "      <td>28</td>\n",
              "    </tr>\n",
              "    <tr>\n",
              "      <th>12</th>\n",
              "      <td>1804</td>\n",
              "      <td>24</td>\n",
              "    </tr>\n",
              "    <tr>\n",
              "      <th>13</th>\n",
              "      <td>602</td>\n",
              "      <td>23</td>\n",
              "    </tr>\n",
              "    <tr>\n",
              "      <th>14</th>\n",
              "      <td>2401</td>\n",
              "      <td>22</td>\n",
              "    </tr>\n",
              "  </tbody>\n",
              "</table>\n",
              "</div>"
            ],
            "text/plain": [
              "    DISTRICT_TERRITORY  NUMBER_OF_PATIENTS\n",
              "0                 1465                 111\n",
              "1                 1061                  76\n",
              "2                 1261                  44\n",
              "3                 3064                  42\n",
              "4                  461                  37\n",
              "5                  663                  36\n",
              "6                 2261                  36\n",
              "7                 2464                  35\n",
              "8                 3262                  35\n",
              "9                  264                  31\n",
              "10                2469                  29\n",
              "11                2061                  28\n",
              "12                1804                  24\n",
              "13                 602                  23\n",
              "14                2401                  22"
            ]
          },
          "metadata": {
            "tags": []
          },
          "execution_count": 37
        }
      ]
    },
    {
      "cell_type": "code",
      "metadata": {
        "id": "svM__FFYI5uR",
        "colab": {
          "base_uri": "https://localhost:8080/",
          "height": 499
        },
        "outputId": "358d8474-0576-4aaf-f1a7-544c2207f7b4"
      },
      "source": [
        "#Territorial codes for places of residence of patients with the highest number of diagnosed with stroke\r\n",
        "fig5, ax = plt.subplots(figsize=(15,7))\r\n",
        "plt.scatter(q9['DISTRICT_TERRITORY'], q9['NUMBER_OF_PATIENTS'], marker='o', s=700, c=q9['DISTRICT_TERRITORY'], cmap='spring')\r\n",
        "plt.title('Territorial codes for places of residence of patients with the highest number of diagnosed with stroke', \r\n",
        "          fontdict = {'fontsize' : 18})\r\n",
        "ax.set_xlabel('DISTRICT TERRITORY CODE')\r\n",
        "ax.set_ylabel('NUMBER OF PATIENTS') \r\n",
        "for i, txt in enumerate(q9['DISTRICT_TERRITORY']):\r\n",
        "  plt.annotate(txt, (q9['DISTRICT_TERRITORY'][i], q9['NUMBER_OF_PATIENTS'][i]), va = 'center', ha='center', fontsize=10, \r\n",
        "               fontweight='light', color='black')   \r\n",
        "plt.show()"
      ],
      "execution_count": 64,
      "outputs": [
        {
          "output_type": "display_data",
          "data": {
            "image/png": "[encoded data removed]",
            "text/plain": [
              "<Figure size 1080x504 with 1 Axes>"
            ]
          },
          "metadata": {
            "tags": []
          }
        }
      ]
    },
    {
      "cell_type": "code",
      "metadata": {
        "colab": {
          "base_uri": "https://localhost:8080/"
        },
        "id": "QmqGoFJBI8aZ",
        "outputId": "5d0b3774-8b44-4108-ab74-3f87b3ed4c57"
      },
      "source": [
        "# What health services did patients diagnosed with stroke use?\r\n",
        "q10 = pd.merge(services[['PATIENT_ID','TYPE_OF_SERVICES','SETTLED_AMOUNT']], patients, on='PATIENT_ID', how='left')\r\n",
        "q10 = q10.reset_index(drop=True)\r\n",
        "q10.dropna(inplace=True)\r\n",
        "q10"
      ],
      "execution_count": null,
      "outputs": [
        {
          "output_type": "execute_result",
          "data": {
            "text/html": [
              "<div>\n",
              "<style scoped>\n",
              "    .dataframe tbody tr th:only-of-type {\n",
              "        vertical-align: middle;\n",
              "    }\n",
              "\n",
              "    .dataframe tbody tr th {\n",
              "        vertical-align: top;\n",
              "    }\n",
              "\n",
              "    .dataframe thead th {\n",
              "        text-align: right;\n",
              "    }\n",
              "</style>\n",
              "<table border=\"1\" class=\"dataframe\">\n",
              "  <thead>\n",
              "    <tr style=\"text-align: right;\">\n",
              "      <th></th>\n",
              "      <th>PATIENT_ID</th>\n",
              "      <th>TYPE_OF_SERVICES</th>\n",
              "      <th>SETTLED_AMOUNT</th>\n",
              "      <th>WAS_THERE_A_STROKE?</th>\n",
              "    </tr>\n",
              "  </thead>\n",
              "  <tbody>\n",
              "    <tr>\n",
              "      <th>0</th>\n",
              "      <td>21466</td>\n",
              "      <td>BASIC HEALTH CARE</td>\n",
              "      <td>0</td>\n",
              "      <td>False</td>\n",
              "    </tr>\n",
              "    <tr>\n",
              "      <th>1</th>\n",
              "      <td>197685</td>\n",
              "      <td>BASIC HEALTH CARE</td>\n",
              "      <td>0</td>\n",
              "      <td>False</td>\n",
              "    </tr>\n",
              "    <tr>\n",
              "      <th>2</th>\n",
              "      <td>21466</td>\n",
              "      <td>BASIC HEALTH CARE</td>\n",
              "      <td>0</td>\n",
              "      <td>False</td>\n",
              "    </tr>\n",
              "    <tr>\n",
              "      <th>3</th>\n",
              "      <td>372836</td>\n",
              "      <td>BASIC HEALTH CARE</td>\n",
              "      <td>0</td>\n",
              "      <td>False</td>\n",
              "    </tr>\n",
              "    <tr>\n",
              "      <th>4</th>\n",
              "      <td>845904</td>\n",
              "      <td>BASIC HEALTH CARE</td>\n",
              "      <td>0</td>\n",
              "      <td>False</td>\n",
              "    </tr>\n",
              "    <tr>\n",
              "      <th>...</th>\n",
              "      <td>...</td>\n",
              "      <td>...</td>\n",
              "      <td>...</td>\n",
              "      <td>...</td>\n",
              "    </tr>\n",
              "    <tr>\n",
              "      <th>13451974</th>\n",
              "      <td>636866</td>\n",
              "      <td>EMERGENCY MEDICAL SERVICES</td>\n",
              "      <td>0</td>\n",
              "      <td>False</td>\n",
              "    </tr>\n",
              "    <tr>\n",
              "      <th>13451975</th>\n",
              "      <td>212614</td>\n",
              "      <td>EMERGENCY MEDICAL SERVICES</td>\n",
              "      <td>0</td>\n",
              "      <td>False</td>\n",
              "    </tr>\n",
              "    <tr>\n",
              "      <th>13451976</th>\n",
              "      <td>641569</td>\n",
              "      <td>EMERGENCY MEDICAL SERVICES</td>\n",
              "      <td>0</td>\n",
              "      <td>False</td>\n",
              "    </tr>\n",
              "    <tr>\n",
              "      <th>13451977</th>\n",
              "      <td>112823</td>\n",
              "      <td>EMERGENCY MEDICAL SERVICES</td>\n",
              "      <td>0</td>\n",
              "      <td>False</td>\n",
              "    </tr>\n",
              "    <tr>\n",
              "      <th>13451978</th>\n",
              "      <td>284642</td>\n",
              "      <td>EMERGENCY MEDICAL SERVICES</td>\n",
              "      <td>0</td>\n",
              "      <td>False</td>\n",
              "    </tr>\n",
              "  </tbody>\n",
              "</table>\n",
              "<p>13451979 rows × 4 columns</p>\n",
              "</div>"
            ],
            "text/plain": [
              "          PATIENT_ID  ... WAS_THERE_A_STROKE?\n",
              "0              21466  ...               False\n",
              "1             197685  ...               False\n",
              "2              21466  ...               False\n",
              "3             372836  ...               False\n",
              "4             845904  ...               False\n",
              "...              ...  ...                 ...\n",
              "13451974      636866  ...               False\n",
              "13451975      212614  ...               False\n",
              "13451976      641569  ...               False\n",
              "13451977      112823  ...               False\n",
              "13451978      284642  ...               False\n",
              "\n",
              "[13451979 rows x 4 columns]"
            ]
          },
          "metadata": {
            "tags": []
          },
          "execution_count": 39
        }
      ]
    },
    {
      "cell_type": "code",
      "metadata": {
        "colab": {
          "base_uri": "https://localhost:8080/"
        },
        "id": "Yy8zl9qUI_gb",
        "outputId": "3fa9df69-8d0a-4933-e784-4dbd3f271545"
      },
      "source": [
        "services_with_stroke = q10[q10['WAS_THERE_A_STROKE?'] == True]\r\n",
        "services_with_stroke"
      ],
      "execution_count": null,
      "outputs": [
        {
          "output_type": "execute_result",
          "data": {
            "text/html": [
              "<div>\n",
              "<style scoped>\n",
              "    .dataframe tbody tr th:only-of-type {\n",
              "        vertical-align: middle;\n",
              "    }\n",
              "\n",
              "    .dataframe tbody tr th {\n",
              "        vertical-align: top;\n",
              "    }\n",
              "\n",
              "    .dataframe thead th {\n",
              "        text-align: right;\n",
              "    }\n",
              "</style>\n",
              "<table border=\"1\" class=\"dataframe\">\n",
              "  <thead>\n",
              "    <tr style=\"text-align: right;\">\n",
              "      <th></th>\n",
              "      <th>PATIENT_ID</th>\n",
              "      <th>TYPE_OF_SERVICES</th>\n",
              "      <th>SETTLED_AMOUNT</th>\n",
              "      <th>WAS_THERE_A_STROKE?</th>\n",
              "    </tr>\n",
              "  </thead>\n",
              "  <tbody>\n",
              "    <tr>\n",
              "      <th>35</th>\n",
              "      <td>173065</td>\n",
              "      <td>BASIC HEALTH CARE</td>\n",
              "      <td>0</td>\n",
              "      <td>True</td>\n",
              "    </tr>\n",
              "    <tr>\n",
              "      <th>266</th>\n",
              "      <td>62772</td>\n",
              "      <td>BASIC HEALTH CARE</td>\n",
              "      <td>0</td>\n",
              "      <td>True</td>\n",
              "    </tr>\n",
              "    <tr>\n",
              "      <th>806</th>\n",
              "      <td>453229</td>\n",
              "      <td>BASIC HEALTH CARE</td>\n",
              "      <td>0</td>\n",
              "      <td>True</td>\n",
              "    </tr>\n",
              "    <tr>\n",
              "      <th>1725</th>\n",
              "      <td>813276</td>\n",
              "      <td>BASIC HEALTH CARE</td>\n",
              "      <td>0</td>\n",
              "      <td>True</td>\n",
              "    </tr>\n",
              "    <tr>\n",
              "      <th>1732</th>\n",
              "      <td>813276</td>\n",
              "      <td>BASIC HEALTH CARE</td>\n",
              "      <td>0</td>\n",
              "      <td>True</td>\n",
              "    </tr>\n",
              "    <tr>\n",
              "      <th>...</th>\n",
              "      <td>...</td>\n",
              "      <td>...</td>\n",
              "      <td>...</td>\n",
              "      <td>...</td>\n",
              "    </tr>\n",
              "    <tr>\n",
              "      <th>13451658</th>\n",
              "      <td>813758</td>\n",
              "      <td>EMERGENCY MEDICAL SERVICES</td>\n",
              "      <td>0</td>\n",
              "      <td>True</td>\n",
              "    </tr>\n",
              "    <tr>\n",
              "      <th>13451810</th>\n",
              "      <td>132302</td>\n",
              "      <td>EMERGENCY MEDICAL SERVICES</td>\n",
              "      <td>0</td>\n",
              "      <td>True</td>\n",
              "    </tr>\n",
              "    <tr>\n",
              "      <th>13451869</th>\n",
              "      <td>205750</td>\n",
              "      <td>EMERGENCY MEDICAL SERVICES</td>\n",
              "      <td>0</td>\n",
              "      <td>True</td>\n",
              "    </tr>\n",
              "    <tr>\n",
              "      <th>13451931</th>\n",
              "      <td>79058</td>\n",
              "      <td>EMERGENCY MEDICAL SERVICES</td>\n",
              "      <td>0</td>\n",
              "      <td>True</td>\n",
              "    </tr>\n",
              "    <tr>\n",
              "      <th>13451955</th>\n",
              "      <td>218466</td>\n",
              "      <td>EMERGENCY MEDICAL SERVICES</td>\n",
              "      <td>0</td>\n",
              "      <td>True</td>\n",
              "    </tr>\n",
              "  </tbody>\n",
              "</table>\n",
              "<p>114656 rows × 4 columns</p>\n",
              "</div>"
            ],
            "text/plain": [
              "          PATIENT_ID  ... WAS_THERE_A_STROKE?\n",
              "35            173065  ...                True\n",
              "266            62772  ...                True\n",
              "806           453229  ...                True\n",
              "1725          813276  ...                True\n",
              "1732          813276  ...                True\n",
              "...              ...  ...                 ...\n",
              "13451658      813758  ...                True\n",
              "13451810      132302  ...                True\n",
              "13451869      205750  ...                True\n",
              "13451931       79058  ...                True\n",
              "13451955      218466  ...                True\n",
              "\n",
              "[114656 rows x 4 columns]"
            ]
          },
          "metadata": {
            "tags": []
          },
          "execution_count": 40
        }
      ]
    },
    {
      "cell_type": "code",
      "metadata": {
        "colab": {
          "base_uri": "https://localhost:8080/"
        },
        "id": "KdQkxDkaJCof",
        "outputId": "f02d8899-1b60-4c05-cdac-5c89346c1a73"
      },
      "source": [
        "#How many patients diagnosed with stroke benefited from each health service?\r\n",
        "q11 = services_with_stroke.groupby('TYPE_OF_SERVICES')['PATIENT_ID'].count()\r\n",
        "q11 = q11.to_frame().reset_index()\r\n",
        "q11 = q11.rename(columns= {'PATIENT_ID': 'NUMBER_OF_PATIENTS'})\r\n",
        "q11 = q11.sort_values(by=['NUMBER_OF_PATIENTS'], ascending=False)\r\n",
        "q11 = q11.reset_index(drop=True)\r\n",
        "q11"
      ],
      "execution_count": null,
      "outputs": [
        {
          "output_type": "execute_result",
          "data": {
            "text/html": [
              "<div>\n",
              "<style scoped>\n",
              "    .dataframe tbody tr th:only-of-type {\n",
              "        vertical-align: middle;\n",
              "    }\n",
              "\n",
              "    .dataframe tbody tr th {\n",
              "        vertical-align: top;\n",
              "    }\n",
              "\n",
              "    .dataframe thead th {\n",
              "        text-align: right;\n",
              "    }\n",
              "</style>\n",
              "<table border=\"1\" class=\"dataframe\">\n",
              "  <thead>\n",
              "    <tr style=\"text-align: right;\">\n",
              "      <th></th>\n",
              "      <th>TYPE_OF_SERVICES</th>\n",
              "      <th>NUMBER_OF_PATIENTS</th>\n",
              "    </tr>\n",
              "  </thead>\n",
              "  <tbody>\n",
              "    <tr>\n",
              "      <th>0</th>\n",
              "      <td>BASIC HEALTH CARE</td>\n",
              "      <td>44801</td>\n",
              "    </tr>\n",
              "    <tr>\n",
              "      <th>1</th>\n",
              "      <td>AMBULATORY SPECIALIZED SERVICES</td>\n",
              "      <td>24416</td>\n",
              "    </tr>\n",
              "    <tr>\n",
              "      <th>2</th>\n",
              "      <td>MEDICAL REHABILITATION</td>\n",
              "      <td>19918</td>\n",
              "    </tr>\n",
              "    <tr>\n",
              "      <th>3</th>\n",
              "      <td>HOSPITAL TREATMENT</td>\n",
              "      <td>14526</td>\n",
              "    </tr>\n",
              "    <tr>\n",
              "      <th>4</th>\n",
              "      <td>DENTAL TREATMENT</td>\n",
              "      <td>4691</td>\n",
              "    </tr>\n",
              "    <tr>\n",
              "      <th>5</th>\n",
              "      <td>PSYCHIATRIC CARE AND TREATMENT OF ADDICTIONS</td>\n",
              "      <td>1816</td>\n",
              "    </tr>\n",
              "    <tr>\n",
              "      <th>6</th>\n",
              "      <td>NURSING AND CARE SERVICES</td>\n",
              "      <td>1748</td>\n",
              "    </tr>\n",
              "    <tr>\n",
              "      <th>7</th>\n",
              "      <td>SEPARATELY CONTRACTED SERVICES</td>\n",
              "      <td>1501</td>\n",
              "    </tr>\n",
              "    <tr>\n",
              "      <th>8</th>\n",
              "      <td>EMERGENCY MEDICAL SERVICES</td>\n",
              "      <td>1162</td>\n",
              "    </tr>\n",
              "    <tr>\n",
              "      <th>9</th>\n",
              "      <td>PALLIATIVE AND HOSPICE CARE</td>\n",
              "      <td>72</td>\n",
              "    </tr>\n",
              "    <tr>\n",
              "      <th>10</th>\n",
              "      <td>PREVENTIVE HEALTH PROGRAMS</td>\n",
              "      <td>5</td>\n",
              "    </tr>\n",
              "  </tbody>\n",
              "</table>\n",
              "</div>"
            ],
            "text/plain": [
              "                                TYPE_OF_SERVICES  NUMBER_OF_PATIENTS\n",
              "0                              BASIC HEALTH CARE               44801\n",
              "1                AMBULATORY SPECIALIZED SERVICES               24416\n",
              "2                         MEDICAL REHABILITATION               19918\n",
              "3                             HOSPITAL TREATMENT               14526\n",
              "4                               DENTAL TREATMENT                4691\n",
              "5   PSYCHIATRIC CARE AND TREATMENT OF ADDICTIONS                1816\n",
              "6                      NURSING AND CARE SERVICES                1748\n",
              "7                 SEPARATELY CONTRACTED SERVICES                1501\n",
              "8                     EMERGENCY MEDICAL SERVICES                1162\n",
              "9                    PALLIATIVE AND HOSPICE CARE                  72\n",
              "10                    PREVENTIVE HEALTH PROGRAMS                   5"
            ]
          },
          "metadata": {
            "tags": []
          },
          "execution_count": 41
        }
      ]
    },
    {
      "cell_type": "code",
      "metadata": {
        "colab": {
          "base_uri": "https://localhost:8080/",
          "height": 858
        },
        "id": "6btTHREQJEsq",
        "outputId": "7511bd0c-fef1-4b00-bd6b-55dbedb19af6"
      },
      "source": [
        "fig6, ax = plt.subplots(figsize=(15, 7))\r\n",
        "plt.title('The type of services that patients diagnosed with a stroke received', fontdict = {'fontsize' : 18})\r\n",
        "ax.bar(q11['TYPE_OF_SERVICES'], q11['NUMBER_OF_PATIENTS'], width=0.8, color=sns.color_palette(\"viridis\", 11))\r\n",
        "for i in q11.index:\r\n",
        "  ax.annotate(f\"{q11['NUMBER_OF_PATIENTS'][i]}\", xy=(i, q11['NUMBER_OF_PATIENTS'][i] + 800), va = 'center', ha='center', fontsize=11, \r\n",
        "              fontweight='light', color='black')\r\n",
        "ax.set_xticklabels(q11['TYPE_OF_SERVICES'], rotation=85)\r\n",
        "ax.set_xlabel('TYPE OF SERVICES')\r\n",
        "ax.set_ylabel('NUMBER OF PATIENTS') \r\n",
        "plt.show()"
      ],
      "execution_count": 57,
      "outputs": [
        {
          "output_type": "display_data",
          "data": {
            "image/png": "[encoded data removed]",
            "text/plain": [
              "<Figure size 1080x504 with 1 Axes>"
            ]
          },
          "metadata": {
            "tags": []
          }
        }
      ]
    },
    {
      "cell_type": "code",
      "metadata": {
        "id": "SIiqnBM2JH33",
        "colab": {
          "base_uri": "https://localhost:8080/"
        },
        "outputId": "fc07156d-27fe-4088-bb1d-7490a60cfa8f"
      },
      "source": [
        "#Was the diagnosis a primary one or a concomitant diagnosis?\r\n",
        "what_diagnosis = pd.merge(services, diagnosis, on='CONTACT_ID')\r\n",
        "what_diagnosis = what_diagnosis.drop(what_diagnosis.columns[[3,4,5,6]], axis=1)\r\n",
        "what_diagnosis = what_diagnosis.reset_index(drop=True)\r\n",
        "what_diagnosis"
      ],
      "execution_count": null,
      "outputs": [
        {
          "output_type": "execute_result",
          "data": {
            "text/html": [
              "<div>\n",
              "<style scoped>\n",
              "    .dataframe tbody tr th:only-of-type {\n",
              "        vertical-align: middle;\n",
              "    }\n",
              "\n",
              "    .dataframe tbody tr th {\n",
              "        vertical-align: top;\n",
              "    }\n",
              "\n",
              "    .dataframe thead th {\n",
              "        text-align: right;\n",
              "    }\n",
              "</style>\n",
              "<table border=\"1\" class=\"dataframe\">\n",
              "  <thead>\n",
              "    <tr style=\"text-align: right;\">\n",
              "      <th></th>\n",
              "      <th>PATIENT_ID</th>\n",
              "      <th>EPISODE_ID</th>\n",
              "      <th>CONTACT_ID</th>\n",
              "      <th>IS_THIS_THE_MAIN_DIAGNOSIS?</th>\n",
              "    </tr>\n",
              "  </thead>\n",
              "  <tbody>\n",
              "    <tr>\n",
              "      <th>0</th>\n",
              "      <td>21466</td>\n",
              "      <td>55625667</td>\n",
              "      <td>20359413</td>\n",
              "      <td>T</td>\n",
              "    </tr>\n",
              "    <tr>\n",
              "      <th>1</th>\n",
              "      <td>197685</td>\n",
              "      <td>84652115</td>\n",
              "      <td>98978481</td>\n",
              "      <td>T</td>\n",
              "    </tr>\n",
              "    <tr>\n",
              "      <th>2</th>\n",
              "      <td>21466</td>\n",
              "      <td>13879209</td>\n",
              "      <td>82087452</td>\n",
              "      <td>T</td>\n",
              "    </tr>\n",
              "    <tr>\n",
              "      <th>3</th>\n",
              "      <td>372836</td>\n",
              "      <td>46476951</td>\n",
              "      <td>43672487</td>\n",
              "      <td>T</td>\n",
              "    </tr>\n",
              "    <tr>\n",
              "      <th>4</th>\n",
              "      <td>845904</td>\n",
              "      <td>87283796</td>\n",
              "      <td>28396473</td>\n",
              "      <td>T</td>\n",
              "    </tr>\n",
              "    <tr>\n",
              "      <th>...</th>\n",
              "      <td>...</td>\n",
              "      <td>...</td>\n",
              "      <td>...</td>\n",
              "      <td>...</td>\n",
              "    </tr>\n",
              "    <tr>\n",
              "      <th>15737274</th>\n",
              "      <td>636866</td>\n",
              "      <td>21379731</td>\n",
              "      <td>34447580</td>\n",
              "      <td>T</td>\n",
              "    </tr>\n",
              "    <tr>\n",
              "      <th>15737275</th>\n",
              "      <td>212614</td>\n",
              "      <td>16425409</td>\n",
              "      <td>19017953</td>\n",
              "      <td>T</td>\n",
              "    </tr>\n",
              "    <tr>\n",
              "      <th>15737276</th>\n",
              "      <td>641569</td>\n",
              "      <td>8034156</td>\n",
              "      <td>55524615</td>\n",
              "      <td>T</td>\n",
              "    </tr>\n",
              "    <tr>\n",
              "      <th>15737277</th>\n",
              "      <td>112823</td>\n",
              "      <td>43052692</td>\n",
              "      <td>19070800</td>\n",
              "      <td>T</td>\n",
              "    </tr>\n",
              "    <tr>\n",
              "      <th>15737278</th>\n",
              "      <td>284642</td>\n",
              "      <td>36430359</td>\n",
              "      <td>36908251</td>\n",
              "      <td>T</td>\n",
              "    </tr>\n",
              "  </tbody>\n",
              "</table>\n",
              "<p>15737279 rows × 4 columns</p>\n",
              "</div>"
            ],
            "text/plain": [
              "          PATIENT_ID  EPISODE_ID  CONTACT_ID IS_THIS_THE_MAIN_DIAGNOSIS?\n",
              "0              21466    55625667    20359413                           T\n",
              "1             197685    84652115    98978481                           T\n",
              "2              21466    13879209    82087452                           T\n",
              "3             372836    46476951    43672487                           T\n",
              "4             845904    87283796    28396473                           T\n",
              "...              ...         ...         ...                         ...\n",
              "15737274      636866    21379731    34447580                           T\n",
              "15737275      212614    16425409    19017953                           T\n",
              "15737276      641569     8034156    55524615                           T\n",
              "15737277      112823    43052692    19070800                           T\n",
              "15737278      284642    36430359    36908251                           T\n",
              "\n",
              "[15737279 rows x 4 columns]"
            ]
          },
          "metadata": {
            "tags": []
          },
          "execution_count": 43
        }
      ]
    },
    {
      "cell_type": "code",
      "metadata": {
        "id": "iyy3GEf-JL48",
        "colab": {
          "base_uri": "https://localhost:8080/"
        },
        "outputId": "bdea73ce-2988-41b5-c180-6d466477244b"
      },
      "source": [
        "#Adding the column 'WAS_THERE_A_STROKE?'\r\n",
        "what_diagnosis = pd.merge(what_diagnosis, patients, on='PATIENT_ID', how='left')\r\n",
        "what_diagnosis = what_diagnosis.reset_index(drop=True)\r\n",
        "what_diagnosis.dropna(inplace=True)\r\n",
        "what_diagnosis"
      ],
      "execution_count": null,
      "outputs": [
        {
          "output_type": "execute_result",
          "data": {
            "text/html": [
              "<div>\n",
              "<style scoped>\n",
              "    .dataframe tbody tr th:only-of-type {\n",
              "        vertical-align: middle;\n",
              "    }\n",
              "\n",
              "    .dataframe tbody tr th {\n",
              "        vertical-align: top;\n",
              "    }\n",
              "\n",
              "    .dataframe thead th {\n",
              "        text-align: right;\n",
              "    }\n",
              "</style>\n",
              "<table border=\"1\" class=\"dataframe\">\n",
              "  <thead>\n",
              "    <tr style=\"text-align: right;\">\n",
              "      <th></th>\n",
              "      <th>PATIENT_ID</th>\n",
              "      <th>EPISODE_ID</th>\n",
              "      <th>CONTACT_ID</th>\n",
              "      <th>IS_THIS_THE_MAIN_DIAGNOSIS?</th>\n",
              "      <th>WAS_THERE_A_STROKE?</th>\n",
              "    </tr>\n",
              "  </thead>\n",
              "  <tbody>\n",
              "    <tr>\n",
              "      <th>0</th>\n",
              "      <td>21466</td>\n",
              "      <td>55625667</td>\n",
              "      <td>20359413</td>\n",
              "      <td>T</td>\n",
              "      <td>False</td>\n",
              "    </tr>\n",
              "    <tr>\n",
              "      <th>1</th>\n",
              "      <td>197685</td>\n",
              "      <td>84652115</td>\n",
              "      <td>98978481</td>\n",
              "      <td>T</td>\n",
              "      <td>False</td>\n",
              "    </tr>\n",
              "    <tr>\n",
              "      <th>2</th>\n",
              "      <td>21466</td>\n",
              "      <td>13879209</td>\n",
              "      <td>82087452</td>\n",
              "      <td>T</td>\n",
              "      <td>False</td>\n",
              "    </tr>\n",
              "    <tr>\n",
              "      <th>3</th>\n",
              "      <td>372836</td>\n",
              "      <td>46476951</td>\n",
              "      <td>43672487</td>\n",
              "      <td>T</td>\n",
              "      <td>False</td>\n",
              "    </tr>\n",
              "    <tr>\n",
              "      <th>4</th>\n",
              "      <td>845904</td>\n",
              "      <td>87283796</td>\n",
              "      <td>28396473</td>\n",
              "      <td>T</td>\n",
              "      <td>False</td>\n",
              "    </tr>\n",
              "    <tr>\n",
              "      <th>...</th>\n",
              "      <td>...</td>\n",
              "      <td>...</td>\n",
              "      <td>...</td>\n",
              "      <td>...</td>\n",
              "      <td>...</td>\n",
              "    </tr>\n",
              "    <tr>\n",
              "      <th>15737274</th>\n",
              "      <td>636866</td>\n",
              "      <td>21379731</td>\n",
              "      <td>34447580</td>\n",
              "      <td>T</td>\n",
              "      <td>False</td>\n",
              "    </tr>\n",
              "    <tr>\n",
              "      <th>15737275</th>\n",
              "      <td>212614</td>\n",
              "      <td>16425409</td>\n",
              "      <td>19017953</td>\n",
              "      <td>T</td>\n",
              "      <td>False</td>\n",
              "    </tr>\n",
              "    <tr>\n",
              "      <th>15737276</th>\n",
              "      <td>641569</td>\n",
              "      <td>8034156</td>\n",
              "      <td>55524615</td>\n",
              "      <td>T</td>\n",
              "      <td>False</td>\n",
              "    </tr>\n",
              "    <tr>\n",
              "      <th>15737277</th>\n",
              "      <td>112823</td>\n",
              "      <td>43052692</td>\n",
              "      <td>19070800</td>\n",
              "      <td>T</td>\n",
              "      <td>False</td>\n",
              "    </tr>\n",
              "    <tr>\n",
              "      <th>15737278</th>\n",
              "      <td>284642</td>\n",
              "      <td>36430359</td>\n",
              "      <td>36908251</td>\n",
              "      <td>T</td>\n",
              "      <td>False</td>\n",
              "    </tr>\n",
              "  </tbody>\n",
              "</table>\n",
              "<p>15737279 rows × 5 columns</p>\n",
              "</div>"
            ],
            "text/plain": [
              "          PATIENT_ID  ...  WAS_THERE_A_STROKE?\n",
              "0              21466  ...                False\n",
              "1             197685  ...                False\n",
              "2              21466  ...                False\n",
              "3             372836  ...                False\n",
              "4             845904  ...                False\n",
              "...              ...  ...                  ...\n",
              "15737274      636866  ...                False\n",
              "15737275      212614  ...                False\n",
              "15737276      641569  ...                False\n",
              "15737277      112823  ...                False\n",
              "15737278      284642  ...                False\n",
              "\n",
              "[15737279 rows x 5 columns]"
            ]
          },
          "metadata": {
            "tags": []
          },
          "execution_count": 44
        }
      ]
    },
    {
      "cell_type": "code",
      "metadata": {
        "id": "P_5jTGi5JOPD",
        "colab": {
          "base_uri": "https://localhost:8080/"
        },
        "outputId": "59840997-e5a2-4c01-e872-f852d8d14925"
      },
      "source": [
        "#Was the diagnosis primary or concomitant diagnosis? (patients diagnosed with a stroke)\r\n",
        "diagnosis_with_stroke = what_diagnosis[what_diagnosis['WAS_THERE_A_STROKE?'] == True]\r\n",
        "diagnosis_with_stroke = diagnosis_with_stroke.groupby('IS_THIS_THE_MAIN_DIAGNOSIS?')['PATIENT_ID'].count()\r\n",
        "diagnosis_with_stroke = diagnosis_with_stroke.to_frame().reset_index()\r\n",
        "diagnosis_with_stroke = diagnosis_with_stroke.rename(columns= {'PATIENT_ID': 'NUMBER_OF_PATIENTS_DIAGNOSED_WITH_STROKE'})\r\n",
        "diagnosis_with_stroke = diagnosis_with_stroke.sort_values(by=['NUMBER_OF_PATIENTS_DIAGNOSED_WITH_STROKE'], ascending=True)\r\n",
        "diagnosis_with_stroke['IS_THIS_THE_MAIN_DIAGNOSIS?'] = [x.replace('N', 'Concomitant diagnosis') for x \r\n",
        "                                                        in diagnosis_with_stroke['IS_THIS_THE_MAIN_DIAGNOSIS?']]\r\n",
        "diagnosis_with_stroke['IS_THIS_THE_MAIN_DIAGNOSIS?'] = [x.replace('T', 'Main diagnosis') for x \r\n",
        "                                                        in diagnosis_with_stroke['IS_THIS_THE_MAIN_DIAGNOSIS?']]\r\n",
        "diagnosis_with_stroke"
      ],
      "execution_count": null,
      "outputs": [
        {
          "output_type": "execute_result",
          "data": {
            "text/html": [
              "<div>\n",
              "<style scoped>\n",
              "    .dataframe tbody tr th:only-of-type {\n",
              "        vertical-align: middle;\n",
              "    }\n",
              "\n",
              "    .dataframe tbody tr th {\n",
              "        vertical-align: top;\n",
              "    }\n",
              "\n",
              "    .dataframe thead th {\n",
              "        text-align: right;\n",
              "    }\n",
              "</style>\n",
              "<table border=\"1\" class=\"dataframe\">\n",
              "  <thead>\n",
              "    <tr style=\"text-align: right;\">\n",
              "      <th></th>\n",
              "      <th>IS_THIS_THE_MAIN_DIAGNOSIS?</th>\n",
              "      <th>NUMBER_OF_PATIENTS_DIAGNOSED_WITH_STROKE</th>\n",
              "    </tr>\n",
              "  </thead>\n",
              "  <tbody>\n",
              "    <tr>\n",
              "      <th>0</th>\n",
              "      <td>Concomitant diagnosis</td>\n",
              "      <td>27574</td>\n",
              "    </tr>\n",
              "    <tr>\n",
              "      <th>1</th>\n",
              "      <td>Main diagnosis</td>\n",
              "      <td>114656</td>\n",
              "    </tr>\n",
              "  </tbody>\n",
              "</table>\n",
              "</div>"
            ],
            "text/plain": [
              "  IS_THIS_THE_MAIN_DIAGNOSIS?  NUMBER_OF_PATIENTS_DIAGNOSED_WITH_STROKE\n",
              "0       Concomitant diagnosis                                     27574\n",
              "1              Main diagnosis                                    114656"
            ]
          },
          "metadata": {
            "tags": []
          },
          "execution_count": 45
        }
      ]
    },
    {
      "cell_type": "code",
      "metadata": {
        "id": "vNWadHvoJQ7n",
        "colab": {
          "base_uri": "https://localhost:8080/",
          "height": 499
        },
        "outputId": "22bc96d3-a049-49bb-d045-3b2fb985499d"
      },
      "source": [
        "fig7, ax = plt.subplots(figsize=(15, 7))\r\n",
        "plt.title('Number of patients diagnosed with a stroke', fontdict = {'fontsize' : 18})\r\n",
        "ax.bar(diagnosis_with_stroke['IS_THIS_THE_MAIN_DIAGNOSIS?'], diagnosis_with_stroke['NUMBER_OF_PATIENTS_DIAGNOSED_WITH_STROKE'], \r\n",
        "       width=0.6, color=sns.color_palette(\"viridis\", 2))\r\n",
        "for i in diagnosis_with_stroke.index:\r\n",
        "  ax.annotate(f\"{diagnosis_with_stroke['NUMBER_OF_PATIENTS_DIAGNOSED_WITH_STROKE'][i]}\", \r\n",
        "              xy=(i, diagnosis_with_stroke['NUMBER_OF_PATIENTS_DIAGNOSED_WITH_STROKE'][i] + 2000), va = 'center', ha='center', \r\n",
        "              fontsize=11, fontweight='light', color='black')\r\n",
        "ax.yaxis.set_major_formatter(FuncFormatter(thousands_formatter))\r\n",
        "ax.set_xticklabels(diagnosis_with_stroke['IS_THIS_THE_MAIN_DIAGNOSIS?'], rotation=0)\r\n",
        "ax.set_xlabel('WHAT WAS THE DIAGNOSIS?')\r\n",
        "ax.set_ylabel('NUMBER OF PATIENTS DIAGNOSED WITH A STROKE' + '\\n(IN THOUSANDS)') \r\n",
        "plt.show()"
      ],
      "execution_count": 68,
      "outputs": [
        {
          "output_type": "display_data",
          "data": {
            "image/png": "[encoded data removed]",
            "text/plain": [
              "<Figure size 1080x504 with 1 Axes>"
            ]
          },
          "metadata": {
            "tags": []
          }
        }
      ]
    },
    {
      "cell_type": "code",
      "metadata": {
        "id": "lML8naG2JS-N",
        "colab": {
          "base_uri": "https://localhost:8080/"
        },
        "outputId": "590c9e23-b2e4-4ff4-f0c2-20eb189be872"
      },
      "source": [
        "#Was the diagnosis primary or concomitant diagnosis? (patients without a diagnosed stroke)\r\n",
        "diagnosis_without_stroke = what_diagnosis[what_diagnosis['WAS_THERE_A_STROKE?'] == False]\r\n",
        "diagnosis_without_stroke = diagnosis_without_stroke.groupby('IS_THIS_THE_MAIN_DIAGNOSIS?')['PATIENT_ID'].count()\r\n",
        "diagnosis_without_stroke = diagnosis_without_stroke.to_frame().reset_index()\r\n",
        "diagnosis_without_stroke = diagnosis_without_stroke.rename(columns= {'PATIENT_ID': 'NUMBER_OF_PATIENTS_WITHOUT_DIAGNOSED_STROKE'})\r\n",
        "diagnosis_without_stroke = diagnosis_without_stroke.sort_values(by=['NUMBER_OF_PATIENTS_WITHOUT_DIAGNOSED_STROKE'], ascending=True)\r\n",
        "diagnosis_without_stroke['IS_THIS_THE_MAIN_DIAGNOSIS?'] = [x.replace('N', 'Concomitant diagnosis') for x \r\n",
        "                                                           in diagnosis_without_stroke['IS_THIS_THE_MAIN_DIAGNOSIS?']]\r\n",
        "diagnosis_without_stroke['IS_THIS_THE_MAIN_DIAGNOSIS?'] = [x.replace('T', 'Main diagnosis') for x \r\n",
        "                                                           in diagnosis_without_stroke['IS_THIS_THE_MAIN_DIAGNOSIS?']]\r\n",
        "diagnosis_without_stroke"
      ],
      "execution_count": null,
      "outputs": [
        {
          "output_type": "execute_result",
          "data": {
            "text/html": [
              "<div>\n",
              "<style scoped>\n",
              "    .dataframe tbody tr th:only-of-type {\n",
              "        vertical-align: middle;\n",
              "    }\n",
              "\n",
              "    .dataframe tbody tr th {\n",
              "        vertical-align: top;\n",
              "    }\n",
              "\n",
              "    .dataframe thead th {\n",
              "        text-align: right;\n",
              "    }\n",
              "</style>\n",
              "<table border=\"1\" class=\"dataframe\">\n",
              "  <thead>\n",
              "    <tr style=\"text-align: right;\">\n",
              "      <th></th>\n",
              "      <th>IS_THIS_THE_MAIN_DIAGNOSIS?</th>\n",
              "      <th>NUMBER_OF_PATIENTS_WITHOUT_DIAGNOSED_STROKE</th>\n",
              "    </tr>\n",
              "  </thead>\n",
              "  <tbody>\n",
              "    <tr>\n",
              "      <th>0</th>\n",
              "      <td>Concomitant diagnosis</td>\n",
              "      <td>2257744</td>\n",
              "    </tr>\n",
              "    <tr>\n",
              "      <th>1</th>\n",
              "      <td>Main diagnosis</td>\n",
              "      <td>13337305</td>\n",
              "    </tr>\n",
              "  </tbody>\n",
              "</table>\n",
              "</div>"
            ],
            "text/plain": [
              "  IS_THIS_THE_MAIN_DIAGNOSIS?  NUMBER_OF_PATIENTS_WITHOUT_DIAGNOSED_STROKE\n",
              "0       Concomitant diagnosis                                      2257744\n",
              "1              Main diagnosis                                     13337305"
            ]
          },
          "metadata": {
            "tags": []
          },
          "execution_count": 47
        }
      ]
    },
    {
      "cell_type": "code",
      "metadata": {
        "id": "pjj9B98pJWnv",
        "colab": {
          "base_uri": "https://localhost:8080/",
          "height": 500
        },
        "outputId": "40e08b74-955d-47ce-8af4-98fcd5e5fd3f"
      },
      "source": [
        "fig8, ax = plt.subplots(figsize=(15, 7))\r\n",
        "plt.title('Number of patients without a diagnosed stroke', fontdict = {'fontsize' : 18})\r\n",
        "ax.bar(diagnosis_without_stroke['IS_THIS_THE_MAIN_DIAGNOSIS?'], diagnosis_without_stroke['NUMBER_OF_PATIENTS_WITHOUT_DIAGNOSED_STROKE'], \r\n",
        "       width=0.6, color=sns.color_palette(\"viridis\", 2))\r\n",
        "for i in diagnosis_without_stroke.index:\r\n",
        "  ax.annotate(f\"{diagnosis_without_stroke['NUMBER_OF_PATIENTS_WITHOUT_DIAGNOSED_STROKE'][i]}\", \r\n",
        "              xy=(i, diagnosis_without_stroke['NUMBER_OF_PATIENTS_WITHOUT_DIAGNOSED_STROKE'][i] + 250000), va = 'center', ha='center', \r\n",
        "              fontsize=11, fontweight='light', color='black')\r\n",
        "ax.set_xticklabels(diagnosis_without_stroke['IS_THIS_THE_MAIN_DIAGNOSIS?'], rotation=0)\r\n",
        "ax.yaxis.set_major_formatter(FuncFormatter(millions_formatter))\r\n",
        "ax.set_xlabel('WHAT WAS THE DIAGNOSIS?')\r\n",
        "ax.set_ylabel('NUMBER OF PATIENTS WITHOUT DIAGNOSED STROKE' + '\\n(IN MILLIONS)') \r\n",
        "plt.show()"
      ],
      "execution_count": 70,
      "outputs": [
        {
          "output_type": "display_data",
          "data": {
            "image/png": "[encoded data removed]",
            "text/plain": [
              "<Figure size 1080x504 with 1 Axes>"
            ]
          },
          "metadata": {
            "tags": []
          }
        }
      ]
    },
    {
      "cell_type": "code",
      "metadata": {
        "id": "nsXYbWwBKeke",
        "colab": {
          "base_uri": "https://localhost:8080/"
        },
        "outputId": "e3d050d6-7f2d-419d-bc3a-694f1f5e060f"
      },
      "source": [
        "q12 = pd.merge(diagnosis_with_stroke, diagnosis_without_stroke)\r\n",
        "q12"
      ],
      "execution_count": null,
      "outputs": [
        {
          "output_type": "execute_result",
          "data": {
            "text/html": [
              "<div>\n",
              "<style scoped>\n",
              "    .dataframe tbody tr th:only-of-type {\n",
              "        vertical-align: middle;\n",
              "    }\n",
              "\n",
              "    .dataframe tbody tr th {\n",
              "        vertical-align: top;\n",
              "    }\n",
              "\n",
              "    .dataframe thead th {\n",
              "        text-align: right;\n",
              "    }\n",
              "</style>\n",
              "<table border=\"1\" class=\"dataframe\">\n",
              "  <thead>\n",
              "    <tr style=\"text-align: right;\">\n",
              "      <th></th>\n",
              "      <th>IS_THIS_THE_MAIN_DIAGNOSIS?</th>\n",
              "      <th>NUMBER_OF_PATIENTS_DIAGNOSED_WITH_STROKE</th>\n",
              "      <th>NUMBER_OF_PATIENTS_WITHOUT_DIAGNOSED_STROKE</th>\n",
              "    </tr>\n",
              "  </thead>\n",
              "  <tbody>\n",
              "    <tr>\n",
              "      <th>0</th>\n",
              "      <td>Concomitant diagnosis</td>\n",
              "      <td>27574</td>\n",
              "      <td>2257744</td>\n",
              "    </tr>\n",
              "    <tr>\n",
              "      <th>1</th>\n",
              "      <td>Main diagnosis</td>\n",
              "      <td>114656</td>\n",
              "      <td>13337305</td>\n",
              "    </tr>\n",
              "  </tbody>\n",
              "</table>\n",
              "</div>"
            ],
            "text/plain": [
              "  IS_THIS_THE_MAIN_DIAGNOSIS?  ...  NUMBER_OF_PATIENTS_WITHOUT_DIAGNOSED_STROKE\n",
              "0       Concomitant diagnosis  ...                                      2257744\n",
              "1              Main diagnosis  ...                                     13337305\n",
              "\n",
              "[2 rows x 3 columns]"
            ]
          },
          "metadata": {
            "tags": []
          },
          "execution_count": 49
        }
      ]
    },
    {
      "cell_type": "code",
      "metadata": {
        "colab": {
          "base_uri": "https://localhost:8080/"
        },
        "id": "shVTyfpdndHg",
        "outputId": "c7b11046-01d3-4940-8dd2-1fe3d074bb68"
      },
      "source": [
        "q12 = q12.melt(id_vars='IS_THIS_THE_MAIN_DIAGNOSIS?').rename(columns=str.title)\r\n",
        "q12['Variable'] = [x.replace('_', ' ') for x in q12['Variable']]\r\n",
        "q12"
      ],
      "execution_count": null,
      "outputs": [
        {
          "output_type": "execute_result",
          "data": {
            "text/html": [
              "<div>\n",
              "<style scoped>\n",
              "    .dataframe tbody tr th:only-of-type {\n",
              "        vertical-align: middle;\n",
              "    }\n",
              "\n",
              "    .dataframe tbody tr th {\n",
              "        vertical-align: top;\n",
              "    }\n",
              "\n",
              "    .dataframe thead th {\n",
              "        text-align: right;\n",
              "    }\n",
              "</style>\n",
              "<table border=\"1\" class=\"dataframe\">\n",
              "  <thead>\n",
              "    <tr style=\"text-align: right;\">\n",
              "      <th></th>\n",
              "      <th>Is_This_The_Main_Diagnosis?</th>\n",
              "      <th>Variable</th>\n",
              "      <th>Value</th>\n",
              "    </tr>\n",
              "  </thead>\n",
              "  <tbody>\n",
              "    <tr>\n",
              "      <th>0</th>\n",
              "      <td>Concomitant diagnosis</td>\n",
              "      <td>NUMBER OF PATIENTS DIAGNOSED WITH STROKE</td>\n",
              "      <td>27574</td>\n",
              "    </tr>\n",
              "    <tr>\n",
              "      <th>1</th>\n",
              "      <td>Main diagnosis</td>\n",
              "      <td>NUMBER OF PATIENTS DIAGNOSED WITH STROKE</td>\n",
              "      <td>114656</td>\n",
              "    </tr>\n",
              "    <tr>\n",
              "      <th>2</th>\n",
              "      <td>Concomitant diagnosis</td>\n",
              "      <td>NUMBER OF PATIENTS WITHOUT DIAGNOSED STROKE</td>\n",
              "      <td>2257744</td>\n",
              "    </tr>\n",
              "    <tr>\n",
              "      <th>3</th>\n",
              "      <td>Main diagnosis</td>\n",
              "      <td>NUMBER OF PATIENTS WITHOUT DIAGNOSED STROKE</td>\n",
              "      <td>13337305</td>\n",
              "    </tr>\n",
              "  </tbody>\n",
              "</table>\n",
              "</div>"
            ],
            "text/plain": [
              "  Is_This_The_Main_Diagnosis?  ...     Value\n",
              "0       Concomitant diagnosis  ...     27574\n",
              "1              Main diagnosis  ...    114656\n",
              "2       Concomitant diagnosis  ...   2257744\n",
              "3              Main diagnosis  ...  13337305\n",
              "\n",
              "[4 rows x 3 columns]"
            ]
          },
          "metadata": {
            "tags": []
          },
          "execution_count": 50
        }
      ]
    },
    {
      "cell_type": "code",
      "metadata": {
        "colab": {
          "base_uri": "https://localhost:8080/",
          "height": 499
        },
        "id": "5ficjk8XVWoI",
        "outputId": "f9766acb-7e3d-4669-f246-82dd6066fc77"
      },
      "source": [
        "fig9, ax = plt.subplots(figsize=(15, 7))\r\n",
        "plt.title('Comparison of the number of patients depending on the diagnosis', fontdict = {'fontsize' : 18})\r\n",
        "ax.yaxis.set_major_formatter(FuncFormatter(millions_formatter)) \r\n",
        "g = sns.barplot(x='Is_This_The_Main_Diagnosis?', y='Value', hue='Variable', data=q12, ax=ax, palette=\"viridis\")\r\n",
        "sns.despine(fig9)\r\n",
        "ax.set_xlabel('WHAT WAS THE DIAGNOSIS?')\r\n",
        "ax.set_ylabel('VALUE (IN MILLIONS)')\r\n",
        "for p in g.patches:\r\n",
        "    g.annotate(format(p.get_height(), '.0f'), (p.get_x() + p.get_width() / 2., p.get_height()), ha = 'center', va = 'center', \r\n",
        "               fontsize=11, fontweight='light', xytext = (0, 9), textcoords = 'offset points')\r\n",
        "plt.show()"
      ],
      "execution_count": 76,
      "outputs": [
        {
          "output_type": "display_data",
          "data": {
            "image/png": "[encoded data removed]",
            "text/plain": [
              "<Figure size 1080x504 with 1 Axes>"
            ]
          },
          "metadata": {
            "tags": []
          }
        }
      ]
    }
  ]
}